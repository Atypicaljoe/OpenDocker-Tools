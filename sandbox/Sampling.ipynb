{
 "cells": [
  {
   "cell_type": "code",
   "execution_count": 1,
   "id": "a03c8ead-4d9f-4de5-9818-9338f42a3357",
   "metadata": {},
   "outputs": [
    {
     "data": {
      "application/vnd.jupyter.widget-view+json": {
       "model_id": "f9805ef248024d518d52c6d987117ef0",
       "version_major": 2,
       "version_minor": 0
      },
      "text/plain": []
     },
     "metadata": {},
     "output_type": "display_data"
    }
   ],
   "source": [
    "import molsysmt as msm"
   ]
  },
  {
   "cell_type": "code",
   "execution_count": 2,
   "id": "663a5e7a-4a44-4902-8ec0-e14b08180dbe",
   "metadata": {},
   "outputs": [],
   "source": [
    "receptor = msm.convert('../Systems/Barnase-Barstar/barnase.pdb')\n",
    "ligand = msm.convert('../Systems/Barnase-Barstar/barstar.pdb')"
   ]
  },
  {
   "cell_type": "code",
   "execution_count": null,
   "id": "94ceeb2d-fad5-45bf-a57a-96ff90999a9a",
   "metadata": {},
   "outputs": [],
   "source": []
  }
 ],
 "metadata": {
  "kernelspec": {
   "display_name": "Python 3 (ipykernel)",
   "language": "python",
   "name": "python3"
  },
  "language_info": {
   "codemirror_mode": {
    "name": "ipython",
    "version": 3
   },
   "file_extension": ".py",
   "mimetype": "text/x-python",
   "name": "python",
   "nbconvert_exporter": "python",
   "pygments_lexer": "ipython3",
   "version": "3.9.13"
  }
 },
 "nbformat": 4,
 "nbformat_minor": 5
}
