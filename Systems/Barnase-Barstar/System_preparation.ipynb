{
 "cells": [
  {
   "cell_type": "markdown",
   "id": "a1887d30-7cc1-4fc5-b3f1-a47caa967e5e",
   "metadata": {},
   "source": [
    "# System preparation"
   ]
  },
  {
   "cell_type": "code",
   "execution_count": 1,
   "id": "3e7003b5-15eb-4a29-8f04-bae8770ed379",
   "metadata": {},
   "outputs": [
    {
     "data": {
      "application/vnd.jupyter.widget-view+json": {
       "model_id": "2d0c41f78a7d496ab310af498986960f",
       "version_major": 2,
       "version_minor": 0
      },
      "text/plain": []
     },
     "metadata": {},
     "output_type": "display_data"
    }
   ],
   "source": [
    "import molsysmt as msm"
   ]
  },
  {
   "cell_type": "code",
   "execution_count": 3,
   "id": "a9fda3df-e14d-4831-99c6-c40d78889b0e",
   "metadata": {},
   "outputs": [
    {
     "name": "stderr",
     "output_type": "stream",
     "text": [
      "/home/diego/Myopt/miniconda3/envs/OpenDocker-Tools@dprada_3.9/lib/python3.9/site-packages/molsysmt/item/mmtf_MMTFDecoder/to_molsysmt_Topology.py:32: UserWarning: The structure in the PDB has biological assemblies. There are geometrical transformations proposed in the structure. See the following issue in the source code repository: https://github.com/uibcdf/MolSysMT/issues/33\n",
      "  warnings.warn(warning_message)\n",
      "/home/diego/Myopt/miniconda3/envs/OpenDocker-Tools@dprada_3.9/lib/python3.9/site-packages/molsysmt/item/mmtf_MMTFDecoder/to_molsysmt_Topology.py:46: UserWarning: The bioassembly has a different number of chains than the total amount of chains\n",
      "  warnings.warn(warning_message)\n"
     ]
    }
   ],
   "source": [
    "molsys = msm.convert('1BRS')"
   ]
  },
  {
   "cell_type": "code",
   "execution_count": 4,
   "id": "045ba7a0-9a09-4a47-83c2-99392e213172",
   "metadata": {},
   "outputs": [
    {
     "data": {
      "text/html": [
       "<style type=\"text/css\">\n",
       "</style>\n",
       "<table id=\"T_77fb3\">\n",
       "  <thead>\n",
       "    <tr>\n",
       "      <th id=\"T_77fb3_level0_col0\" class=\"col_heading level0 col0\" >form</th>\n",
       "      <th id=\"T_77fb3_level0_col1\" class=\"col_heading level0 col1\" >n_atoms</th>\n",
       "      <th id=\"T_77fb3_level0_col2\" class=\"col_heading level0 col2\" >n_groups</th>\n",
       "      <th id=\"T_77fb3_level0_col3\" class=\"col_heading level0 col3\" >n_components</th>\n",
       "      <th id=\"T_77fb3_level0_col4\" class=\"col_heading level0 col4\" >n_chains</th>\n",
       "      <th id=\"T_77fb3_level0_col5\" class=\"col_heading level0 col5\" >n_molecules</th>\n",
       "      <th id=\"T_77fb3_level0_col6\" class=\"col_heading level0 col6\" >n_entities</th>\n",
       "      <th id=\"T_77fb3_level0_col7\" class=\"col_heading level0 col7\" >n_waters</th>\n",
       "      <th id=\"T_77fb3_level0_col8\" class=\"col_heading level0 col8\" >n_proteins</th>\n",
       "      <th id=\"T_77fb3_level0_col9\" class=\"col_heading level0 col9\" >n_structures</th>\n",
       "    </tr>\n",
       "  </thead>\n",
       "  <tbody>\n",
       "    <tr>\n",
       "      <td id=\"T_77fb3_row0_col0\" class=\"data row0 col0\" >molsysmt.MolSys</td>\n",
       "      <td id=\"T_77fb3_row0_col1\" class=\"data row0 col1\" >5153</td>\n",
       "      <td id=\"T_77fb3_row0_col2\" class=\"data row0 col2\" >1101</td>\n",
       "      <td id=\"T_77fb3_row0_col3\" class=\"data row0 col3\" >521</td>\n",
       "      <td id=\"T_77fb3_row0_col4\" class=\"data row0 col4\" >12</td>\n",
       "      <td id=\"T_77fb3_row0_col5\" class=\"data row0 col5\" >519</td>\n",
       "      <td id=\"T_77fb3_row0_col6\" class=\"data row0 col6\" >3</td>\n",
       "      <td id=\"T_77fb3_row0_col7\" class=\"data row0 col7\" >513</td>\n",
       "      <td id=\"T_77fb3_row0_col8\" class=\"data row0 col8\" >6</td>\n",
       "      <td id=\"T_77fb3_row0_col9\" class=\"data row0 col9\" >1</td>\n",
       "    </tr>\n",
       "  </tbody>\n",
       "</table>\n"
      ],
      "text/plain": [
       "<pandas.io.formats.style.Styler at 0x7f5ead0aedc0>"
      ]
     },
     "execution_count": 4,
     "metadata": {},
     "output_type": "execute_result"
    }
   ],
   "source": [
    "msm.info(molsys)"
   ]
  },
  {
   "cell_type": "code",
   "execution_count": 5,
   "id": "333fae4d-93e5-49a2-8e47-0f879968f8cb",
   "metadata": {},
   "outputs": [],
   "source": [
    "molsys = msm.extract(molsys, selection='molecule_type==\"protein\"')"
   ]
  },
  {
   "cell_type": "code",
   "execution_count": 6,
   "id": "a07aedf9-f383-48f7-8fc8-345834811df4",
   "metadata": {},
   "outputs": [
    {
     "data": {
      "text/html": [
       "<style type=\"text/css\">\n",
       "</style>\n",
       "<table id=\"T_4d189\">\n",
       "  <thead>\n",
       "    <tr>\n",
       "      <th id=\"T_4d189_level0_col0\" class=\"col_heading level0 col0\" >form</th>\n",
       "      <th id=\"T_4d189_level0_col1\" class=\"col_heading level0 col1\" >n_atoms</th>\n",
       "      <th id=\"T_4d189_level0_col2\" class=\"col_heading level0 col2\" >n_groups</th>\n",
       "      <th id=\"T_4d189_level0_col3\" class=\"col_heading level0 col3\" >n_components</th>\n",
       "      <th id=\"T_4d189_level0_col4\" class=\"col_heading level0 col4\" >n_chains</th>\n",
       "      <th id=\"T_4d189_level0_col5\" class=\"col_heading level0 col5\" >n_molecules</th>\n",
       "      <th id=\"T_4d189_level0_col6\" class=\"col_heading level0 col6\" >n_entities</th>\n",
       "      <th id=\"T_4d189_level0_col7\" class=\"col_heading level0 col7\" >n_proteins</th>\n",
       "      <th id=\"T_4d189_level0_col8\" class=\"col_heading level0 col8\" >n_structures</th>\n",
       "    </tr>\n",
       "  </thead>\n",
       "  <tbody>\n",
       "    <tr>\n",
       "      <td id=\"T_4d189_row0_col0\" class=\"data row0 col0\" >molsysmt.MolSys</td>\n",
       "      <td id=\"T_4d189_row0_col1\" class=\"data row0 col1\" >4640</td>\n",
       "      <td id=\"T_4d189_row0_col2\" class=\"data row0 col2\" >588</td>\n",
       "      <td id=\"T_4d189_row0_col3\" class=\"data row0 col3\" >8</td>\n",
       "      <td id=\"T_4d189_row0_col4\" class=\"data row0 col4\" >6</td>\n",
       "      <td id=\"T_4d189_row0_col5\" class=\"data row0 col5\" >6</td>\n",
       "      <td id=\"T_4d189_row0_col6\" class=\"data row0 col6\" >2</td>\n",
       "      <td id=\"T_4d189_row0_col7\" class=\"data row0 col7\" >6</td>\n",
       "      <td id=\"T_4d189_row0_col8\" class=\"data row0 col8\" >1</td>\n",
       "    </tr>\n",
       "  </tbody>\n",
       "</table>\n"
      ],
      "text/plain": [
       "<pandas.io.formats.style.Styler at 0x7f5ead0a87c0>"
      ]
     },
     "execution_count": 6,
     "metadata": {},
     "output_type": "execute_result"
    }
   ],
   "source": [
    "msm.info(molsys)"
   ]
  },
  {
   "cell_type": "code",
   "execution_count": 7,
   "id": "7f10bea2-0f07-4dd3-bbb4-d7c00db334ef",
   "metadata": {},
   "outputs": [
    {
     "data": {
      "text/html": [
       "<style type=\"text/css\">\n",
       "</style>\n",
       "<table id=\"T_17030\">\n",
       "  <thead>\n",
       "    <tr>\n",
       "      <th id=\"T_17030_level0_col0\" class=\"col_heading level0 col0\" >index</th>\n",
       "      <th id=\"T_17030_level0_col1\" class=\"col_heading level0 col1\" >name</th>\n",
       "      <th id=\"T_17030_level0_col2\" class=\"col_heading level0 col2\" >type</th>\n",
       "      <th id=\"T_17030_level0_col3\" class=\"col_heading level0 col3\" >n atoms</th>\n",
       "      <th id=\"T_17030_level0_col4\" class=\"col_heading level0 col4\" >n groups</th>\n",
       "      <th id=\"T_17030_level0_col5\" class=\"col_heading level0 col5\" >n components</th>\n",
       "      <th id=\"T_17030_level0_col6\" class=\"col_heading level0 col6\" >chain index</th>\n",
       "      <th id=\"T_17030_level0_col7\" class=\"col_heading level0 col7\" >entity index</th>\n",
       "      <th id=\"T_17030_level0_col8\" class=\"col_heading level0 col8\" >entity name</th>\n",
       "    </tr>\n",
       "  </thead>\n",
       "  <tbody>\n",
       "    <tr>\n",
       "      <td id=\"T_17030_row0_col0\" class=\"data row0 col0\" >0</td>\n",
       "      <td id=\"T_17030_row0_col1\" class=\"data row0 col1\" >Barnase</td>\n",
       "      <td id=\"T_17030_row0_col2\" class=\"data row0 col2\" >protein</td>\n",
       "      <td id=\"T_17030_row0_col3\" class=\"data row0 col3\" >864</td>\n",
       "      <td id=\"T_17030_row0_col4\" class=\"data row0 col4\" >108</td>\n",
       "      <td id=\"T_17030_row0_col5\" class=\"data row0 col5\" >1</td>\n",
       "      <td id=\"T_17030_row0_col6\" class=\"data row0 col6\" >0</td>\n",
       "      <td id=\"T_17030_row0_col7\" class=\"data row0 col7\" >0</td>\n",
       "      <td id=\"T_17030_row0_col8\" class=\"data row0 col8\" >Barnase</td>\n",
       "    </tr>\n",
       "    <tr>\n",
       "      <td id=\"T_17030_row1_col0\" class=\"data row1 col0\" >1</td>\n",
       "      <td id=\"T_17030_row1_col1\" class=\"data row1 col1\" >Barnase</td>\n",
       "      <td id=\"T_17030_row1_col2\" class=\"data row1 col2\" >protein</td>\n",
       "      <td id=\"T_17030_row1_col3\" class=\"data row1 col3\" >878</td>\n",
       "      <td id=\"T_17030_row1_col4\" class=\"data row1 col4\" >110</td>\n",
       "      <td id=\"T_17030_row1_col5\" class=\"data row1 col5\" >1</td>\n",
       "      <td id=\"T_17030_row1_col6\" class=\"data row1 col6\" >1</td>\n",
       "      <td id=\"T_17030_row1_col7\" class=\"data row1 col7\" >0</td>\n",
       "      <td id=\"T_17030_row1_col8\" class=\"data row1 col8\" >Barnase</td>\n",
       "    </tr>\n",
       "    <tr>\n",
       "      <td id=\"T_17030_row2_col0\" class=\"data row2 col0\" >2</td>\n",
       "      <td id=\"T_17030_row2_col1\" class=\"data row2 col1\" >Barnase</td>\n",
       "      <td id=\"T_17030_row2_col2\" class=\"data row2 col2\" >protein</td>\n",
       "      <td id=\"T_17030_row2_col3\" class=\"data row2 col3\" >839</td>\n",
       "      <td id=\"T_17030_row2_col4\" class=\"data row2 col4\" >108</td>\n",
       "      <td id=\"T_17030_row2_col5\" class=\"data row2 col5\" >1</td>\n",
       "      <td id=\"T_17030_row2_col6\" class=\"data row2 col6\" >2</td>\n",
       "      <td id=\"T_17030_row2_col7\" class=\"data row2 col7\" >0</td>\n",
       "      <td id=\"T_17030_row2_col8\" class=\"data row2 col8\" >Barnase</td>\n",
       "    </tr>\n",
       "    <tr>\n",
       "      <td id=\"T_17030_row3_col0\" class=\"data row3 col0\" >3</td>\n",
       "      <td id=\"T_17030_row3_col1\" class=\"data row3 col1\" >Barstar</td>\n",
       "      <td id=\"T_17030_row3_col2\" class=\"data row3 col2\" >protein</td>\n",
       "      <td id=\"T_17030_row3_col3\" class=\"data row3 col3\" >695</td>\n",
       "      <td id=\"T_17030_row3_col4\" class=\"data row3 col4\" >87</td>\n",
       "      <td id=\"T_17030_row3_col5\" class=\"data row3 col5\" >2</td>\n",
       "      <td id=\"T_17030_row3_col6\" class=\"data row3 col6\" >3</td>\n",
       "      <td id=\"T_17030_row3_col7\" class=\"data row3 col7\" >1</td>\n",
       "      <td id=\"T_17030_row3_col8\" class=\"data row3 col8\" >Barstar</td>\n",
       "    </tr>\n",
       "    <tr>\n",
       "      <td id=\"T_17030_row4_col0\" class=\"data row4 col0\" >4</td>\n",
       "      <td id=\"T_17030_row4_col1\" class=\"data row4 col1\" >Barstar</td>\n",
       "      <td id=\"T_17030_row4_col2\" class=\"data row4 col2\" >protein</td>\n",
       "      <td id=\"T_17030_row4_col3\" class=\"data row4 col3\" >665</td>\n",
       "      <td id=\"T_17030_row4_col4\" class=\"data row4 col4\" >86</td>\n",
       "      <td id=\"T_17030_row4_col5\" class=\"data row4 col5\" >2</td>\n",
       "      <td id=\"T_17030_row4_col6\" class=\"data row4 col6\" >4</td>\n",
       "      <td id=\"T_17030_row4_col7\" class=\"data row4 col7\" >1</td>\n",
       "      <td id=\"T_17030_row4_col8\" class=\"data row4 col8\" >Barstar</td>\n",
       "    </tr>\n",
       "    <tr>\n",
       "      <td id=\"T_17030_row5_col0\" class=\"data row5 col0\" >5</td>\n",
       "      <td id=\"T_17030_row5_col1\" class=\"data row5 col1\" >Barstar</td>\n",
       "      <td id=\"T_17030_row5_col2\" class=\"data row5 col2\" >protein</td>\n",
       "      <td id=\"T_17030_row5_col3\" class=\"data row5 col3\" >699</td>\n",
       "      <td id=\"T_17030_row5_col4\" class=\"data row5 col4\" >89</td>\n",
       "      <td id=\"T_17030_row5_col5\" class=\"data row5 col5\" >1</td>\n",
       "      <td id=\"T_17030_row5_col6\" class=\"data row5 col6\" >5</td>\n",
       "      <td id=\"T_17030_row5_col7\" class=\"data row5 col7\" >1</td>\n",
       "      <td id=\"T_17030_row5_col8\" class=\"data row5 col8\" >Barstar</td>\n",
       "    </tr>\n",
       "  </tbody>\n",
       "</table>\n"
      ],
      "text/plain": [
       "<pandas.io.formats.style.Styler at 0x7f5ead0e75e0>"
      ]
     },
     "execution_count": 7,
     "metadata": {},
     "output_type": "execute_result"
    }
   ],
   "source": [
    "msm.info(molsys, element='molecule')"
   ]
  },
  {
   "cell_type": "code",
   "execution_count": 8,
   "id": "67b9963f-a4f7-4676-8302-7f8f2c148cf3",
   "metadata": {},
   "outputs": [
    {
     "data": {
      "text/html": [
       "<style type=\"text/css\">\n",
       "</style>\n",
       "<table id=\"T_d1770\">\n",
       "  <thead>\n",
       "    <tr>\n",
       "      <th id=\"T_d1770_level0_col0\" class=\"col_heading level0 col0\" >index</th>\n",
       "      <th id=\"T_d1770_level0_col1\" class=\"col_heading level0 col1\" >id</th>\n",
       "      <th id=\"T_d1770_level0_col2\" class=\"col_heading level0 col2\" >name</th>\n",
       "      <th id=\"T_d1770_level0_col3\" class=\"col_heading level0 col3\" >n atoms</th>\n",
       "      <th id=\"T_d1770_level0_col4\" class=\"col_heading level0 col4\" >n groups</th>\n",
       "      <th id=\"T_d1770_level0_col5\" class=\"col_heading level0 col5\" >n components</th>\n",
       "      <th id=\"T_d1770_level0_col6\" class=\"col_heading level0 col6\" >molecule index</th>\n",
       "      <th id=\"T_d1770_level0_col7\" class=\"col_heading level0 col7\" >molecule type</th>\n",
       "      <th id=\"T_d1770_level0_col8\" class=\"col_heading level0 col8\" >entity index</th>\n",
       "      <th id=\"T_d1770_level0_col9\" class=\"col_heading level0 col9\" >entity name</th>\n",
       "    </tr>\n",
       "  </thead>\n",
       "  <tbody>\n",
       "    <tr>\n",
       "      <td id=\"T_d1770_row0_col0\" class=\"data row0 col0\" >0</td>\n",
       "      <td id=\"T_d1770_row0_col1\" class=\"data row0 col1\" >A</td>\n",
       "      <td id=\"T_d1770_row0_col2\" class=\"data row0 col2\" >A</td>\n",
       "      <td id=\"T_d1770_row0_col3\" class=\"data row0 col3\" >864</td>\n",
       "      <td id=\"T_d1770_row0_col4\" class=\"data row0 col4\" >108</td>\n",
       "      <td id=\"T_d1770_row0_col5\" class=\"data row0 col5\" >1</td>\n",
       "      <td id=\"T_d1770_row0_col6\" class=\"data row0 col6\" >0</td>\n",
       "      <td id=\"T_d1770_row0_col7\" class=\"data row0 col7\" >protein</td>\n",
       "      <td id=\"T_d1770_row0_col8\" class=\"data row0 col8\" >0</td>\n",
       "      <td id=\"T_d1770_row0_col9\" class=\"data row0 col9\" >Barnase</td>\n",
       "    </tr>\n",
       "    <tr>\n",
       "      <td id=\"T_d1770_row1_col0\" class=\"data row1 col0\" >1</td>\n",
       "      <td id=\"T_d1770_row1_col1\" class=\"data row1 col1\" >B</td>\n",
       "      <td id=\"T_d1770_row1_col2\" class=\"data row1 col2\" >B</td>\n",
       "      <td id=\"T_d1770_row1_col3\" class=\"data row1 col3\" >878</td>\n",
       "      <td id=\"T_d1770_row1_col4\" class=\"data row1 col4\" >110</td>\n",
       "      <td id=\"T_d1770_row1_col5\" class=\"data row1 col5\" >1</td>\n",
       "      <td id=\"T_d1770_row1_col6\" class=\"data row1 col6\" >1</td>\n",
       "      <td id=\"T_d1770_row1_col7\" class=\"data row1 col7\" >protein</td>\n",
       "      <td id=\"T_d1770_row1_col8\" class=\"data row1 col8\" >0</td>\n",
       "      <td id=\"T_d1770_row1_col9\" class=\"data row1 col9\" >Barnase</td>\n",
       "    </tr>\n",
       "    <tr>\n",
       "      <td id=\"T_d1770_row2_col0\" class=\"data row2 col0\" >2</td>\n",
       "      <td id=\"T_d1770_row2_col1\" class=\"data row2 col1\" >C</td>\n",
       "      <td id=\"T_d1770_row2_col2\" class=\"data row2 col2\" >C</td>\n",
       "      <td id=\"T_d1770_row2_col3\" class=\"data row2 col3\" >839</td>\n",
       "      <td id=\"T_d1770_row2_col4\" class=\"data row2 col4\" >108</td>\n",
       "      <td id=\"T_d1770_row2_col5\" class=\"data row2 col5\" >1</td>\n",
       "      <td id=\"T_d1770_row2_col6\" class=\"data row2 col6\" >2</td>\n",
       "      <td id=\"T_d1770_row2_col7\" class=\"data row2 col7\" >protein</td>\n",
       "      <td id=\"T_d1770_row2_col8\" class=\"data row2 col8\" >0</td>\n",
       "      <td id=\"T_d1770_row2_col9\" class=\"data row2 col9\" >Barnase</td>\n",
       "    </tr>\n",
       "    <tr>\n",
       "      <td id=\"T_d1770_row3_col0\" class=\"data row3 col0\" >3</td>\n",
       "      <td id=\"T_d1770_row3_col1\" class=\"data row3 col1\" >D</td>\n",
       "      <td id=\"T_d1770_row3_col2\" class=\"data row3 col2\" >D</td>\n",
       "      <td id=\"T_d1770_row3_col3\" class=\"data row3 col3\" >695</td>\n",
       "      <td id=\"T_d1770_row3_col4\" class=\"data row3 col4\" >87</td>\n",
       "      <td id=\"T_d1770_row3_col5\" class=\"data row3 col5\" >2</td>\n",
       "      <td id=\"T_d1770_row3_col6\" class=\"data row3 col6\" >3</td>\n",
       "      <td id=\"T_d1770_row3_col7\" class=\"data row3 col7\" >protein</td>\n",
       "      <td id=\"T_d1770_row3_col8\" class=\"data row3 col8\" >1</td>\n",
       "      <td id=\"T_d1770_row3_col9\" class=\"data row3 col9\" >Barstar</td>\n",
       "    </tr>\n",
       "    <tr>\n",
       "      <td id=\"T_d1770_row4_col0\" class=\"data row4 col0\" >4</td>\n",
       "      <td id=\"T_d1770_row4_col1\" class=\"data row4 col1\" >E</td>\n",
       "      <td id=\"T_d1770_row4_col2\" class=\"data row4 col2\" >E</td>\n",
       "      <td id=\"T_d1770_row4_col3\" class=\"data row4 col3\" >665</td>\n",
       "      <td id=\"T_d1770_row4_col4\" class=\"data row4 col4\" >86</td>\n",
       "      <td id=\"T_d1770_row4_col5\" class=\"data row4 col5\" >2</td>\n",
       "      <td id=\"T_d1770_row4_col6\" class=\"data row4 col6\" >4</td>\n",
       "      <td id=\"T_d1770_row4_col7\" class=\"data row4 col7\" >protein</td>\n",
       "      <td id=\"T_d1770_row4_col8\" class=\"data row4 col8\" >1</td>\n",
       "      <td id=\"T_d1770_row4_col9\" class=\"data row4 col9\" >Barstar</td>\n",
       "    </tr>\n",
       "    <tr>\n",
       "      <td id=\"T_d1770_row5_col0\" class=\"data row5 col0\" >5</td>\n",
       "      <td id=\"T_d1770_row5_col1\" class=\"data row5 col1\" >F</td>\n",
       "      <td id=\"T_d1770_row5_col2\" class=\"data row5 col2\" >F</td>\n",
       "      <td id=\"T_d1770_row5_col3\" class=\"data row5 col3\" >699</td>\n",
       "      <td id=\"T_d1770_row5_col4\" class=\"data row5 col4\" >89</td>\n",
       "      <td id=\"T_d1770_row5_col5\" class=\"data row5 col5\" >1</td>\n",
       "      <td id=\"T_d1770_row5_col6\" class=\"data row5 col6\" >5</td>\n",
       "      <td id=\"T_d1770_row5_col7\" class=\"data row5 col7\" >protein</td>\n",
       "      <td id=\"T_d1770_row5_col8\" class=\"data row5 col8\" >1</td>\n",
       "      <td id=\"T_d1770_row5_col9\" class=\"data row5 col9\" >Barstar</td>\n",
       "    </tr>\n",
       "  </tbody>\n",
       "</table>\n"
      ],
      "text/plain": [
       "<pandas.io.formats.style.Styler at 0x7f5ea3b03f40>"
      ]
     },
     "execution_count": 8,
     "metadata": {},
     "output_type": "execute_result"
    }
   ],
   "source": [
    "msm.info(molsys, element='chain')"
   ]
  },
  {
   "cell_type": "code",
   "execution_count": 9,
   "id": "35954219-690d-4679-a87b-067a47acb76c",
   "metadata": {},
   "outputs": [
    {
     "data": {
      "application/vnd.jupyter.widget-view+json": {
       "model_id": "6ba4c663e8624b8db56f259dc72d4aaf",
       "version_major": 2,
       "version_minor": 0
      },
      "text/plain": [
       "NGLWidget()"
      ]
     },
     "metadata": {},
     "output_type": "display_data"
    }
   ],
   "source": [
    "msm.view(molsys)"
   ]
  },
  {
   "cell_type": "code",
   "execution_count": 10,
   "id": "5606bb7c-b814-4ff1-b5cc-193666288e2d",
   "metadata": {},
   "outputs": [],
   "source": [
    "barnase = msm.extract(molsys, selection=\"chain_name=='B'\")\n",
    "barstar_E = msm.extract(molsys, selection=\"chain_name=='E'\")\n",
    "barstar_F = msm.extract(molsys, selection=\"chain_name=='F'\")"
   ]
  },
  {
   "cell_type": "code",
   "execution_count": 11,
   "id": "8b997afb-7e48-4101-b6f7-ece126a68eaf",
   "metadata": {},
   "outputs": [
    {
     "data": {
      "application/vnd.jupyter.widget-view+json": {
       "model_id": "f455337bd72444c08142f40c19a9882d",
       "version_major": 2,
       "version_minor": 0
      },
      "text/plain": [
       "NGLWidget()"
      ]
     },
     "metadata": {},
     "output_type": "display_data"
    }
   ],
   "source": [
    "msm.view([barnase, barstar_E, barstar_F])"
   ]
  },
  {
   "cell_type": "code",
   "execution_count": 12,
   "id": "5c91c25b-6f28-4386-ae6c-8058970484b9",
   "metadata": {},
   "outputs": [],
   "source": [
    "barstar_F_over_E = msm.structure.align(barstar_F, selection='atom_name==\"CA\"',\n",
    "                                       reference_molecular_system=barstar_E, reference_selection='atom_name==\"CA\"')"
   ]
  },
  {
   "cell_type": "code",
   "execution_count": 13,
   "id": "58d98244-b4f1-4b11-b6e0-2d45f8d0b6db",
   "metadata": {},
   "outputs": [
    {
     "data": {
      "application/vnd.jupyter.widget-view+json": {
       "model_id": "a0add975afd646f7a54da08b51fa8586",
       "version_major": 2,
       "version_minor": 0
      },
      "text/plain": [
       "NGLWidget()"
      ]
     },
     "metadata": {},
     "output_type": "display_data"
    }
   ],
   "source": [
    "msm.view([barnase, barstar_E, barstar_F_over_E])"
   ]
  },
  {
   "cell_type": "code",
   "execution_count": 14,
   "id": "b48fd5c1-a659-4c88-b23d-f9880f1ffe4e",
   "metadata": {},
   "outputs": [],
   "source": [
    "barnase_barstar = msm.merge([barnase, barstar_F_over_E])"
   ]
  },
  {
   "cell_type": "code",
   "execution_count": 15,
   "id": "766e0060-0ee4-47d8-bbce-ba0625d06760",
   "metadata": {},
   "outputs": [
    {
     "data": {
      "application/vnd.jupyter.widget-view+json": {
       "model_id": "89bfeeaf051441878d964421237bbdc6",
       "version_major": 2,
       "version_minor": 0
      },
      "text/plain": [
       "NGLWidget()"
      ]
     },
     "metadata": {},
     "output_type": "display_data"
    }
   ],
   "source": [
    "msm.view(barnase_barstar)"
   ]
  },
  {
   "cell_type": "code",
   "execution_count": 16,
   "id": "c14ee10d-5055-48e6-b55e-a52920705e65",
   "metadata": {},
   "outputs": [
    {
     "data": {
      "text/plain": [
       "{131: ['CD', 'CE', 'NZ'],\n",
       " 137: ['CG', 'CD', 'OE1', 'OE2'],\n",
       " 155: ['CG', 'CD', 'OE1', 'OE2'],\n",
       " 173: ['CG', 'CD', 'OE1', 'OE2'],\n",
       " 174: ['CG', 'OD1', 'ND2'],\n",
       " 198: ['O']}"
      ]
     },
     "execution_count": 16,
     "metadata": {},
     "output_type": "execute_result"
    }
   ],
   "source": [
    "msm.build.get_missing_heavy_atoms(barnase_barstar)"
   ]
  },
  {
   "cell_type": "code",
   "execution_count": 17,
   "id": "b3e3ddc3-d83f-4625-b429-0c168e89437e",
   "metadata": {},
   "outputs": [
    {
     "name": "stderr",
     "output_type": "stream",
     "text": [
      "Warning: importing 'simtk.openmm' is deprecated.  Import 'openmm' instead.\n"
     ]
    }
   ],
   "source": [
    "barnase_barstar = msm.build.add_missing_heavy_atoms(barnase_barstar)"
   ]
  },
  {
   "cell_type": "code",
   "execution_count": 18,
   "id": "9fcc4d4d-65b9-42b8-9eff-d6e8dfc8e430",
   "metadata": {},
   "outputs": [
    {
     "data": {
      "text/plain": [
       "False"
      ]
     },
     "execution_count": 18,
     "metadata": {},
     "output_type": "execute_result"
    }
   ],
   "source": [
    "msm.contains(barnase_barstar, hydrogens=True)"
   ]
  },
  {
   "cell_type": "code",
   "execution_count": 19,
   "id": "0b188160-3582-4b33-8d31-04b5341531a1",
   "metadata": {},
   "outputs": [
    {
     "data": {
      "text/plain": [
       "0"
      ]
     },
     "execution_count": 19,
     "metadata": {},
     "output_type": "execute_result"
    }
   ],
   "source": [
    "msm.get(barnase_barstar, element='atom', selection='atom_type==\"H\"', n_atoms=True)"
   ]
  },
  {
   "cell_type": "code",
   "execution_count": 20,
   "id": "da448a9a-8498-4393-b907-963919285bd3",
   "metadata": {},
   "outputs": [],
   "source": [
    "barnase_barstar = msm.build.add_missing_hydrogens(barnase_barstar, pH=7.4)"
   ]
  },
  {
   "cell_type": "code",
   "execution_count": 21,
   "id": "d15d858f-6598-4d8e-8969-eaf5128e46a7",
   "metadata": {},
   "outputs": [
    {
     "data": {
      "text/plain": [
       "1563"
      ]
     },
     "execution_count": 21,
     "metadata": {},
     "output_type": "execute_result"
    }
   ],
   "source": [
    "msm.get(barnase_barstar, element='atom', selection='atom_type==\"H\"', n_atoms=True)"
   ]
  },
  {
   "cell_type": "code",
   "execution_count": 25,
   "id": "7ca204a4-3467-4cec-8ad7-6a09573842d3",
   "metadata": {},
   "outputs": [
    {
     "data": {
      "text/html": [
       "<style type=\"text/css\">\n",
       "</style>\n",
       "<table id=\"T_fce7f\">\n",
       "  <thead>\n",
       "    <tr>\n",
       "      <th id=\"T_fce7f_level0_col0\" class=\"col_heading level0 col0\" >index</th>\n",
       "      <th id=\"T_fce7f_level0_col1\" class=\"col_heading level0 col1\" >name</th>\n",
       "      <th id=\"T_fce7f_level0_col2\" class=\"col_heading level0 col2\" >type</th>\n",
       "      <th id=\"T_fce7f_level0_col3\" class=\"col_heading level0 col3\" >n atoms</th>\n",
       "      <th id=\"T_fce7f_level0_col4\" class=\"col_heading level0 col4\" >n groups</th>\n",
       "      <th id=\"T_fce7f_level0_col5\" class=\"col_heading level0 col5\" >n components</th>\n",
       "      <th id=\"T_fce7f_level0_col6\" class=\"col_heading level0 col6\" >chain index</th>\n",
       "      <th id=\"T_fce7f_level0_col7\" class=\"col_heading level0 col7\" >entity index</th>\n",
       "      <th id=\"T_fce7f_level0_col8\" class=\"col_heading level0 col8\" >entity name</th>\n",
       "    </tr>\n",
       "  </thead>\n",
       "  <tbody>\n",
       "    <tr>\n",
       "      <td id=\"T_fce7f_row0_col0\" class=\"data row0 col0\" >0</td>\n",
       "      <td id=\"T_fce7f_row0_col1\" class=\"data row0 col1\" >None</td>\n",
       "      <td id=\"T_fce7f_row0_col2\" class=\"data row0 col2\" >protein</td>\n",
       "      <td id=\"T_fce7f_row0_col3\" class=\"data row0 col3\" >1727</td>\n",
       "      <td id=\"T_fce7f_row0_col4\" class=\"data row0 col4\" >110</td>\n",
       "      <td id=\"T_fce7f_row0_col5\" class=\"data row0 col5\" >1</td>\n",
       "      <td id=\"T_fce7f_row0_col6\" class=\"data row0 col6\" >0</td>\n",
       "      <td id=\"T_fce7f_row0_col7\" class=\"data row0 col7\" >0</td>\n",
       "      <td id=\"T_fce7f_row0_col8\" class=\"data row0 col8\" >Protein_0</td>\n",
       "    </tr>\n",
       "    <tr>\n",
       "      <td id=\"T_fce7f_row1_col0\" class=\"data row1 col0\" >1</td>\n",
       "      <td id=\"T_fce7f_row1_col1\" class=\"data row1 col1\" >None</td>\n",
       "      <td id=\"T_fce7f_row1_col2\" class=\"data row1 col2\" >protein</td>\n",
       "      <td id=\"T_fce7f_row1_col3\" class=\"data row1 col3\" >1432</td>\n",
       "      <td id=\"T_fce7f_row1_col4\" class=\"data row1 col4\" >89</td>\n",
       "      <td id=\"T_fce7f_row1_col5\" class=\"data row1 col5\" >1</td>\n",
       "      <td id=\"T_fce7f_row1_col6\" class=\"data row1 col6\" >1</td>\n",
       "      <td id=\"T_fce7f_row1_col7\" class=\"data row1 col7\" >1</td>\n",
       "      <td id=\"T_fce7f_row1_col8\" class=\"data row1 col8\" >Protein_1</td>\n",
       "    </tr>\n",
       "  </tbody>\n",
       "</table>\n"
      ],
      "text/plain": [
       "<pandas.io.formats.style.Styler at 0x7f5ea00d16a0>"
      ]
     },
     "execution_count": 25,
     "metadata": {},
     "output_type": "execute_result"
    }
   ],
   "source": [
    "msm.info(barnase_barstar, element='molecule')"
   ]
  },
  {
   "cell_type": "code",
   "execution_count": 22,
   "id": "2cc49a45-76fe-4a71-b41d-6d4ea2ab25e4",
   "metadata": {},
   "outputs": [
    {
     "data": {
      "text/plain": [
       "'my_barnase_barstar.pdb'"
      ]
     },
     "execution_count": 22,
     "metadata": {},
     "output_type": "execute_result"
    }
   ],
   "source": [
    "msm.convert(barnase_barstar, to_form='my_barnase_barstar.pdb')"
   ]
  },
  {
   "cell_type": "code",
   "execution_count": 26,
   "id": "687fab8d-197f-4b65-8b42-98bbd6da7d62",
   "metadata": {},
   "outputs": [],
   "source": [
    "barnase = msm.extract(barnase_barstar, selection='molecule_id==0')"
   ]
  },
  {
   "cell_type": "code",
   "execution_count": 28,
   "id": "cbeb72ff-4ff8-47e4-9abf-e26e55daa8ae",
   "metadata": {},
   "outputs": [
    {
     "ename": "ValueError",
     "evalue": "unexpected array size: new_size=1, got array with arr_size=0\n",
     "output_type": "error",
     "traceback": [
      "\u001b[0;31m---------------------------------------------------------------------------\u001b[0m",
      "\u001b[0;31mValueError\u001b[0m                                Traceback (most recent call last)",
      "Input \u001b[0;32mIn [28]\u001b[0m, in \u001b[0;36m<cell line: 1>\u001b[0;34m()\u001b[0m\n\u001b[0;32m----> 1\u001b[0m barnase \u001b[38;5;241m=\u001b[39m \u001b[43mmsm\u001b[49m\u001b[38;5;241;43m.\u001b[39;49m\u001b[43mstructure\u001b[49m\u001b[38;5;241;43m.\u001b[39;49m\u001b[43mcenter\u001b[49m\u001b[43m(\u001b[49m\u001b[43mbarnase\u001b[49m\u001b[43m)\u001b[49m\n",
      "File \u001b[0;32m~/Myopt/miniconda3/envs/OpenDocker-Tools@dprada_3.9/lib/python3.9/site-packages/molsysmt/_private/digestion/digest.py:119\u001b[0m, in \u001b[0;36mdigest.<locals>.digestor.<locals>.wrapper\u001b[0;34m(*args, **kwargs)\u001b[0m\n\u001b[1;32m    117\u001b[0m     \u001b[38;5;28;01mreturn\u001b[39;00m auxiliary_output\n\u001b[1;32m    118\u001b[0m \u001b[38;5;28;01melse\u001b[39;00m:\n\u001b[0;32m--> 119\u001b[0m     \u001b[38;5;28;01mreturn\u001b[39;00m \u001b[43mfunc\u001b[49m\u001b[43m(\u001b[49m\u001b[38;5;241;43m*\u001b[39;49m\u001b[38;5;241;43m*\u001b[39;49m\u001b[43mfinal_args\u001b[49m\u001b[43m)\u001b[49m\n",
      "File \u001b[0;32m~/Myopt/miniconda3/envs/OpenDocker-Tools@dprada_3.9/lib/python3.9/site-packages/molsysmt/structure/center.py:15\u001b[0m, in \u001b[0;36mcenter\u001b[0;34m(molecular_system, selection, center_of_selection, weights, center_coordinates, structure_indices, syntax, engine, in_place)\u001b[0m\n\u001b[1;32m     11\u001b[0m \u001b[38;5;28;01mfrom\u001b[39;00m \u001b[38;5;21;01m.\u001b[39;00m \u001b[38;5;28;01mimport\u001b[39;00m translate\n\u001b[1;32m     13\u001b[0m \u001b[38;5;28;01mif\u001b[39;00m engine\u001b[38;5;241m==\u001b[39m\u001b[38;5;124m'\u001b[39m\u001b[38;5;124mMolSysMT\u001b[39m\u001b[38;5;124m'\u001b[39m:\n\u001b[0;32m---> 15\u001b[0m     coordinates_selection_center \u001b[38;5;241m=\u001b[39m \u001b[43mget_center\u001b[49m\u001b[43m(\u001b[49m\u001b[43mmolecular_system\u001b[49m\u001b[43m,\u001b[49m\u001b[43m \u001b[49m\u001b[43mselection\u001b[49m\u001b[38;5;241;43m=\u001b[39;49m\u001b[43mcenter_of_selection\u001b[49m\u001b[43m,\u001b[49m\u001b[43m \u001b[49m\u001b[43mgroups_of_atoms\u001b[49m\u001b[38;5;241;43m=\u001b[39;49m\u001b[38;5;28;43;01mNone\u001b[39;49;00m\u001b[43m,\u001b[49m\u001b[43m \u001b[49m\u001b[43mweights\u001b[49m\u001b[38;5;241;43m=\u001b[39;49m\u001b[43mweights\u001b[49m\u001b[43m,\u001b[49m\n\u001b[1;32m     16\u001b[0m \u001b[43m                                              \u001b[49m\u001b[43mstructure_indices\u001b[49m\u001b[38;5;241;43m=\u001b[39;49m\u001b[43mstructure_indices\u001b[49m\u001b[43m,\u001b[49m\n\u001b[1;32m     17\u001b[0m \u001b[43m                                              \u001b[49m\u001b[43msyntax\u001b[49m\u001b[38;5;241;43m=\u001b[39;49m\u001b[43msyntax\u001b[49m\u001b[43m,\u001b[49m\u001b[43m \u001b[49m\u001b[43mengine\u001b[49m\u001b[38;5;241;43m=\u001b[39;49m\u001b[43mengine\u001b[49m\u001b[43m)\u001b[49m\n\u001b[1;32m     19\u001b[0m     \u001b[38;5;28;01mif\u001b[39;00m center_coordinates \u001b[38;5;129;01mis\u001b[39;00m \u001b[38;5;28;01mNone\u001b[39;00m:\n\u001b[1;32m     20\u001b[0m         translation \u001b[38;5;241m=\u001b[39m \u001b[38;5;241m-\u001b[39mcoordinates_selection_center\n",
      "File \u001b[0;32m~/Myopt/miniconda3/envs/OpenDocker-Tools@dprada_3.9/lib/python3.9/site-packages/molsysmt/_private/digestion/digest.py:119\u001b[0m, in \u001b[0;36mdigest.<locals>.digestor.<locals>.wrapper\u001b[0;34m(*args, **kwargs)\u001b[0m\n\u001b[1;32m    117\u001b[0m     \u001b[38;5;28;01mreturn\u001b[39;00m auxiliary_output\n\u001b[1;32m    118\u001b[0m \u001b[38;5;28;01melse\u001b[39;00m:\n\u001b[0;32m--> 119\u001b[0m     \u001b[38;5;28;01mreturn\u001b[39;00m \u001b[43mfunc\u001b[49m\u001b[43m(\u001b[49m\u001b[38;5;241;43m*\u001b[39;49m\u001b[38;5;241;43m*\u001b[39;49m\u001b[43mfinal_args\u001b[49m\u001b[43m)\u001b[49m\n",
      "File \u001b[0;32m~/Myopt/miniconda3/envs/OpenDocker-Tools@dprada_3.9/lib/python3.9/site-packages/molsysmt/structure/get_center.py:34\u001b[0m, in \u001b[0;36mget_center\u001b[0;34m(molecular_system, selection, groups_of_atoms, weights, structure_indices, syntax, engine)\u001b[0m\n\u001b[1;32m     31\u001b[0m n_atoms \u001b[38;5;241m=\u001b[39m coordinates\u001b[38;5;241m.\u001b[39mshape[\u001b[38;5;241m1\u001b[39m]\n\u001b[1;32m     32\u001b[0m n_structures \u001b[38;5;241m=\u001b[39m coordinates\u001b[38;5;241m.\u001b[39mshape[\u001b[38;5;241m0\u001b[39m]\n\u001b[0;32m---> 34\u001b[0m com \u001b[38;5;241m=\u001b[39m \u001b[43mlibcom\u001b[49m\u001b[38;5;241;43m.\u001b[39;49m\u001b[43mcenter_of_mass\u001b[49m\u001b[43m(\u001b[49m\u001b[43mcoordinates\u001b[49m\u001b[43m,\u001b[49m\n\u001b[1;32m     35\u001b[0m \u001b[43m                            \u001b[49m\u001b[43mgroups_serialized\u001b[49m\u001b[38;5;241;43m.\u001b[39;49m\u001b[43mindices\u001b[49m\u001b[43m,\u001b[49m\u001b[43m \u001b[49m\u001b[43mgroups_serialized\u001b[49m\u001b[38;5;241;43m.\u001b[39;49m\u001b[43mvalues\u001b[49m\u001b[43m,\u001b[49m\u001b[43m \u001b[49m\u001b[43mgroups_serialized\u001b[49m\u001b[38;5;241;43m.\u001b[39;49m\u001b[43mstarts\u001b[49m\u001b[43m,\u001b[49m\n\u001b[1;32m     36\u001b[0m \u001b[43m                            \u001b[49m\u001b[43mweights\u001b[49m\u001b[43m,\u001b[49m\u001b[43m \u001b[49m\u001b[43mn_structures\u001b[49m\u001b[43m,\u001b[49m\u001b[43m \u001b[49m\u001b[43mn_atoms\u001b[49m\u001b[43m,\u001b[49m\n\u001b[1;32m     37\u001b[0m \u001b[43m                            \u001b[49m\u001b[43mgroups_serialized\u001b[49m\u001b[38;5;241;43m.\u001b[39;49m\u001b[43mn_indices\u001b[49m\u001b[43m,\u001b[49m\u001b[43m \u001b[49m\u001b[43mgroups_serialized\u001b[49m\u001b[38;5;241;43m.\u001b[39;49m\u001b[43mn_values\u001b[49m\u001b[43m)\u001b[49m\n\u001b[1;32m     39\u001b[0m \u001b[38;5;28;01mdel\u001b[39;00m(coordinates, groups_serialized)\n\u001b[1;32m     41\u001b[0m \u001b[38;5;28;01mreturn\u001b[39;00m com\u001b[38;5;241m*\u001b[39mlength_units\n",
      "\u001b[0;31mValueError\u001b[0m: unexpected array size: new_size=1, got array with arr_size=0\n"
     ]
    }
   ],
   "source": [
    "barnase = msm.structure.center(barnase)"
   ]
  },
  {
   "cell_type": "code",
   "execution_count": null,
   "id": "dcae0fe0-a87c-4bd1-8df0-fbe7645d07fe",
   "metadata": {},
   "outputs": [],
   "source": []
  }
 ],
 "metadata": {
  "kernelspec": {
   "display_name": "Python 3 (ipykernel)",
   "language": "python",
   "name": "python3"
  },
  "language_info": {
   "codemirror_mode": {
    "name": "ipython",
    "version": 3
   },
   "file_extension": ".py",
   "mimetype": "text/x-python",
   "name": "python",
   "nbconvert_exporter": "python",
   "pygments_lexer": "ipython3",
   "version": "3.9.13"
  }
 },
 "nbformat": 4,
 "nbformat_minor": 5
}
