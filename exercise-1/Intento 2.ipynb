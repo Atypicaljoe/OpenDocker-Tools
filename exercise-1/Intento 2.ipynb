{
 "cells": [
  {
   "cell_type": "code",
   "execution_count": 1,
   "id": "2fc8ada8-3054-4682-a555-67eb7c653a7b",
   "metadata": {},
   "outputs": [],
   "source": [
    "import openmm as mm\n",
    "from openmm import unit\n",
    "from openmm import app"
   ]
  },
  {
   "cell_type": "code",
   "execution_count": 61,
   "id": "58d44616-4cfe-417e-8582-ca3de72103b2",
   "metadata": {},
   "outputs": [],
   "source": [
    "pdb = app.PDBFile('barnase_barstar.pdb')"
   ]
  },
  {
   "cell_type": "code",
   "execution_count": 3,
   "id": "83f0e719-be27-41ef-a154-44f0468e469a",
   "metadata": {},
   "outputs": [
    {
     "data": {
      "text/plain": [
       "openmm.app.pdbfile.PDBFile"
      ]
     },
     "execution_count": 3,
     "metadata": {},
     "output_type": "execute_result"
    }
   ],
   "source": [
    "type(pdb) "
   ]
  },
  {
   "cell_type": "code",
   "execution_count": 4,
   "id": "0347295e-3c7d-4909-be0c-9a9c1e2ca37c",
   "metadata": {},
   "outputs": [
    {
     "data": {
      "text/plain": [
       "['__class__',\n",
       " '__delattr__',\n",
       " '__dict__',\n",
       " '__dir__',\n",
       " '__doc__',\n",
       " '__eq__',\n",
       " '__format__',\n",
       " '__ge__',\n",
       " '__getattribute__',\n",
       " '__gt__',\n",
       " '__hash__',\n",
       " '__init__',\n",
       " '__init_subclass__',\n",
       " '__le__',\n",
       " '__lt__',\n",
       " '__module__',\n",
       " '__ne__',\n",
       " '__new__',\n",
       " '__reduce__',\n",
       " '__reduce_ex__',\n",
       " '__repr__',\n",
       " '__setattr__',\n",
       " '__sizeof__',\n",
       " '__str__',\n",
       " '__subclasshook__',\n",
       " '__weakref__',\n",
       " '_atomNameReplacements',\n",
       " '_loadNameReplacementTables',\n",
       " '_numpyPositions',\n",
       " '_parseResidueAtoms',\n",
       " '_positions',\n",
       " '_residueNameReplacements',\n",
       " '_standardResidues',\n",
       " 'getNumFrames',\n",
       " 'getPositions',\n",
       " 'getTopology',\n",
       " 'positions',\n",
       " 'topology',\n",
       " 'writeFile',\n",
       " 'writeFooter',\n",
       " 'writeHeader',\n",
       " 'writeModel']"
      ]
     },
     "execution_count": 4,
     "metadata": {},
     "output_type": "execute_result"
    }
   ],
   "source": [
    "dir(pdb)"
   ]
  },
  {
   "cell_type": "code",
   "execution_count": 15,
   "id": "26f9da37-539c-4f00-93dc-668154bf1b74",
   "metadata": {},
   "outputs": [],
   "source": [
    "positions = pdb.getPositions(asNumpy=True)"
   ]
  },
  {
   "cell_type": "code",
   "execution_count": 20,
   "id": "22334726-6dcb-42f2-8c4a-d1e1a4228823",
   "metadata": {},
   "outputs": [
    {
     "data": {
      "text/plain": [
       "(3159, 3)"
      ]
     },
     "execution_count": 20,
     "metadata": {},
     "output_type": "execute_result"
    }
   ],
   "source": [
    "positions._value.shape"
   ]
  },
  {
   "cell_type": "code",
   "execution_count": 48,
   "id": "1f8457a7-e1e3-4444-abc6-014d74e19d89",
   "metadata": {},
   "outputs": [],
   "source": [
    "list_chains = []\n",
    "for chain in pdb.topology.chains():\n",
    "    list_chains.append(chain)"
   ]
  },
  {
   "cell_type": "code",
   "execution_count": 50,
   "id": "5c29099a-9b5c-4241-82c3-08fb24cc7329",
   "metadata": {},
   "outputs": [],
   "source": [
    "chain_0 = list_chains[0]"
   ]
  },
  {
   "cell_type": "code",
   "execution_count": 55,
   "id": "242c2018-e504-436e-a88a-c69932dd15f6",
   "metadata": {},
   "outputs": [],
   "source": [
    "list_atoms_in_chain_0 = []\n",
    "for atom in chain_0.atoms():\n",
    "    list_atoms_in_chain_0.append(atom)"
   ]
  },
  {
   "cell_type": "code",
   "execution_count": 56,
   "id": "937aa16b-3db2-4a0e-98b3-b698333f31a8",
   "metadata": {},
   "outputs": [
    {
     "data": {
      "text/plain": [
       "1727"
      ]
     },
     "execution_count": 56,
     "metadata": {},
     "output_type": "execute_result"
    }
   ],
   "source": [
    "len(list_atoms_in_chain_0)"
   ]
  },
  {
   "cell_type": "code",
   "execution_count": 57,
   "id": "65d0b993-5c7e-4964-9734-7de28a3ff669",
   "metadata": {},
   "outputs": [
    {
     "data": {
      "text/plain": [
       "1432"
      ]
     },
     "execution_count": 57,
     "metadata": {},
     "output_type": "execute_result"
    }
   ],
   "source": [
    "chain_1 = list_chains[1]\n",
    "list_atoms_in_chain_1 = []\n",
    "for atom in chain_1.atoms():\n",
    "    list_atoms_in_chain_1.append(atom)\n",
    "    \n",
    "len(list_atoms_in_chain_1)"
   ]
  },
  {
   "cell_type": "code",
   "execution_count": 62,
   "id": "bae28713-083e-4762-9f8f-9aa8cd3a5616",
   "metadata": {},
   "outputs": [],
   "source": [
    "original_positions = pdb.getPositions(asNumpy=True)"
   ]
  },
  {
   "cell_type": "code",
   "execution_count": 63,
   "id": "8d1ad822-10a8-4113-a5d7-6b1b609aec1c",
   "metadata": {},
   "outputs": [
    {
     "data": {
      "text/plain": [
       "Quantity(value=array([[-0.4722,  1.6032, -0.5051],\n",
       "       [-0.4682,  1.66  , -0.6107],\n",
       "       [-0.3589,  1.5705, -0.4824],\n",
       "       ...,\n",
       "       [ 0.4141,  3.4026,  0.6075],\n",
       "       [ 0.3763,  3.3302,  0.5218],\n",
       "       [ 0.5124,  3.4458,  0.5541]]), unit=nanometer)"
      ]
     },
     "execution_count": 63,
     "metadata": {},
     "output_type": "execute_result"
    }
   ],
   "source": [
    "original_positions[0:1726]"
   ]
  },
  {
   "cell_type": "code",
   "execution_count": 64,
   "id": "fb3858dc-039a-4e23-9a63-5c5b489c12f7",
   "metadata": {},
   "outputs": [
    {
     "data": {
      "text/plain": [
       "Quantity(value=array([[-0.7268,  0.0096,  2.9545],\n",
       "       [-0.7154, -0.074 ,  2.8696],\n",
       "       [-0.8343,  0.0571,  2.9326],\n",
       "       ...,\n",
       "       [-0.6949,  0.7494,  4.3906],\n",
       "       [-0.7008,  0.9331,  4.6818],\n",
       "       [-0.7069,  0.8351,  4.7805]]), unit=nanometer)"
      ]
     },
     "execution_count": 64,
     "metadata": {},
     "output_type": "execute_result"
    }
   ],
   "source": [
    "original_positions[1727:]"
   ]
  },
  {
   "cell_type": "code",
   "execution_count": 71,
   "id": "1b40dfff-e7ce-4450-a93c-40c3e6a0d511",
   "metadata": {},
   "outputs": [],
   "source": [
    "centro_0 = np.mean(original_positions[0:1726], 0)\n",
    "centro_1 = np.mean(original_positions[1727:], 0)"
   ]
  },
  {
   "cell_type": "code",
   "execution_count": 72,
   "id": "2969e95e-b51d-409d-86f6-39603a400a03",
   "metadata": {},
   "outputs": [
    {
     "data": {
      "text/plain": [
       "Quantity(value=array([ 0.09376228, -1.11701723,  2.11753116]), unit=nanometer)"
      ]
     },
     "execution_count": 72,
     "metadata": {},
     "output_type": "execute_result"
    }
   ],
   "source": [
    "centro_1-centro_0"
   ]
  },
  {
   "cell_type": "code",
   "execution_count": null,
   "id": "7ee3fb62-bb0f-4c88-a8ca-38a5e0d28d7b",
   "metadata": {},
   "outputs": [],
   "source": []
  },
  {
   "cell_type": "code",
   "execution_count": 22,
   "id": "1d41210e-48c6-46df-9ee9-3a43db1c771d",
   "metadata": {},
   "outputs": [],
   "source": [
    "forcefield = app.ForceField('amber14-all.xml')"
   ]
  },
  {
   "cell_type": "code",
   "execution_count": 23,
   "id": "f6f38c5a-8248-48f4-96ad-21e5ddc92bf7",
   "metadata": {},
   "outputs": [],
   "source": [
    "system = forcefield.createSystem(pdb.topology, nonbondedMethod=app.NoCutoff, constraints=app.HBonds)"
   ]
  },
  {
   "cell_type": "code",
   "execution_count": 24,
   "id": "e4f77ede-99d8-4817-a12c-0bc2c81e9f0b",
   "metadata": {},
   "outputs": [],
   "source": [
    "step_size   = 0.002*unit.picoseconds\n",
    "temperature = 0.0*unit.kelvin\n",
    "friction    = 0.0/unit.picosecond # Damping para la dinámica de Langevin\n",
    "\n",
    "integrator = mm.LangevinIntegrator(temperature, friction, step_size)"
   ]
  },
  {
   "cell_type": "code",
   "execution_count": 25,
   "id": "167f99bc-0bee-45fe-b60d-660a55b7a413",
   "metadata": {},
   "outputs": [],
   "source": [
    "platform_name = 'CPU'\n",
    "platform    = mm.Platform.getPlatformByName(platform_name)"
   ]
  },
  {
   "cell_type": "code",
   "execution_count": 26,
   "id": "8e0c4aa5-f6ba-4b97-933b-31bb8f32528c",
   "metadata": {},
   "outputs": [],
   "source": [
    "context = mm.Context(system, integrator, platform)"
   ]
  },
  {
   "cell_type": "code",
   "execution_count": 27,
   "id": "05ad3ff0-2de7-48a0-9acb-e807575e42a5",
   "metadata": {},
   "outputs": [
    {
     "data": {
      "text/plain": [
       "openmm.openmm.Context"
      ]
     },
     "execution_count": 27,
     "metadata": {},
     "output_type": "execute_result"
    }
   ],
   "source": [
    "type(context)"
   ]
  },
  {
   "cell_type": "code",
   "execution_count": 28,
   "id": "2c17c95a-ed2a-471f-9459-c88adb4ecef8",
   "metadata": {},
   "outputs": [],
   "source": [
    "context.setPositions(pdb.positions)"
   ]
  },
  {
   "cell_type": "code",
   "execution_count": 29,
   "id": "2cab4c8b-478e-4070-aa87-71a8ba593153",
   "metadata": {},
   "outputs": [],
   "source": [
    "state = context.getState(getEnergy=True)"
   ]
  },
  {
   "cell_type": "code",
   "execution_count": 30,
   "id": "b68f57e2-8626-4d1c-a5ea-ee7f71bdfcd7",
   "metadata": {},
   "outputs": [
    {
     "data": {
      "text/plain": [
       "Quantity(value=15294.695710703127, unit=kilojoule/mole)"
      ]
     },
     "execution_count": 30,
     "metadata": {},
     "output_type": "execute_result"
    }
   ],
   "source": [
    "state.getPotentialEnergy()\n"
   ]
  },
  {
   "cell_type": "code",
   "execution_count": 32,
   "id": "a9d23a09-e515-4e46-9603-7e1bcc72e3a2",
   "metadata": {},
   "outputs": [],
   "source": [
    "coordenadas = pdb.getPositions(asNumpy=True)"
   ]
  },
  {
   "cell_type": "code",
   "execution_count": 39,
   "id": "28683d50-2342-4c10-91c5-5f4408b8938f",
   "metadata": {},
   "outputs": [],
   "source": [
    "coordenadas._value[0,0]=-1000.0\n",
    "coordenadas._value[0,1]=0.0\n",
    "coordenadas._value[0,2]=0.0"
   ]
  },
  {
   "cell_type": "code",
   "execution_count": 40,
   "id": "bee90c3f-a02e-415d-970b-66dc5d29ddcd",
   "metadata": {},
   "outputs": [
    {
     "data": {
      "text/plain": [
       "Quantity(value=array([[-1.0000e+03,  0.0000e+00,  0.0000e+00],\n",
       "       [-4.6820e-01,  1.6600e+00, -6.1070e-01],\n",
       "       [-3.5890e-01,  1.5705e+00, -4.8240e-01],\n",
       "       ...,\n",
       "       [-6.9490e-01,  7.4940e-01,  4.3906e+00],\n",
       "       [-7.0080e-01,  9.3310e-01,  4.6818e+00],\n",
       "       [-7.0690e-01,  8.3510e-01,  4.7805e+00]]), unit=nanometer)"
      ]
     },
     "execution_count": 40,
     "metadata": {},
     "output_type": "execute_result"
    }
   ],
   "source": [
    "coordenadas"
   ]
  },
  {
   "cell_type": "code",
   "execution_count": 41,
   "id": "5dd80473-2547-4b49-9755-53f3a0eb8a10",
   "metadata": {},
   "outputs": [],
   "source": [
    "context.setPositions(coordenadas)"
   ]
  },
  {
   "cell_type": "code",
   "execution_count": 42,
   "id": "7dd0cd4e-bf54-4cc1-b2e5-f5b61fdd355f",
   "metadata": {},
   "outputs": [
    {
     "data": {
      "text/plain": [
       "Quantity(value=153340498826.4681, unit=kilojoule/mole)"
      ]
     },
     "execution_count": 42,
     "metadata": {},
     "output_type": "execute_result"
    }
   ],
   "source": [
    "state = context.getState(getEnergy=True)\n",
    "state.getPotentialEnergy()"
   ]
  },
  {
   "cell_type": "code",
   "execution_count": null,
   "id": "f00f186b-78eb-4785-8097-4510d03ac2f3",
   "metadata": {},
   "outputs": [],
   "source": []
  }
 ],
 "metadata": {
  "kernelspec": {
   "display_name": "Python 3 (ipykernel)",
   "language": "python",
   "name": "python3"
  },
  "language_info": {
   "codemirror_mode": {
    "name": "ipython",
    "version": 3
   },
   "file_extension": ".py",
   "mimetype": "text/x-python",
   "name": "python",
   "nbconvert_exporter": "python",
   "pygments_lexer": "ipython3",
   "version": "3.9.13"
  }
 },
 "nbformat": 4,
 "nbformat_minor": 5
}
