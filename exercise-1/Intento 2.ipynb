{
 "cells": [
  {
   "cell_type": "code",
   "execution_count": 1,
   "id": "2fc8ada8-3054-4682-a555-67eb7c653a7b",
   "metadata": {},
   "outputs": [],
   "source": [
    "import openmm as mm\n",
    "from openmm import unit\n",
    "from openmm import app\n",
    "import numpy as np\n",
    "from tqdm import tqdm\n",
    "import matplotlib.pyplot as plt\n",
    "import pyunitwizard as puw"
   ]
  },
  {
   "cell_type": "code",
   "execution_count": 2,
   "id": "58d44616-4cfe-417e-8582-ca3de72103b2",
   "metadata": {},
   "outputs": [],
   "source": [
    "pdb = app.PDBFile('barnase_barstar.pdb')\n",
    "original_positions = pdb.getPositions(asNumpy=True)"
   ]
  },
  {
   "cell_type": "code",
   "execution_count": 3,
   "id": "0ef606d5-87b1-43b4-8009-e7566762a4f0",
   "metadata": {},
   "outputs": [],
   "source": [
    "num_total_atomos = original_positions.shape[0]\n",
    "\n"
   ]
  },
  {
   "cell_type": "code",
   "execution_count": 4,
   "id": "f4b0a492-2a3e-423f-a152-3f4b50f6bd8c",
   "metadata": {},
   "outputs": [
    {
     "name": "stdout",
     "output_type": "stream",
     "text": [
      "Tenemos 2 cadenas de átomos en ek pdb\n"
     ]
    }
   ],
   "source": [
    "list_chains = list(pdb.topology.chains())\n",
    "print(f'Tenemos {len(list_chains)} cadenas de átomos en ek pdb')"
   ]
  },
  {
   "cell_type": "code",
   "execution_count": 5,
   "id": "1c4bbde4-6be6-4807-9268-debb32cce616",
   "metadata": {},
   "outputs": [
    {
     "name": "stdout",
     "output_type": "stream",
     "text": [
      "En la cadena 1 tenemos 1727 átomos\n",
      "En la cadena 2 tenemos 1432 átomos\n"
     ]
    }
   ],
   "source": [
    "num_atomos_cadena_1 = len(list(list_chains[0].atoms()))\n",
    "num_atomos_cadena_2 = len(list(list_chains[1].atoms()))\n",
    "\n",
    "print(f'En la cadena 1 tenemos {num_atomos_cadena_1} átomos')\n",
    "print(f'En la cadena 2 tenemos {num_atomos_cadena_2} átomos')"
   ]
  },
  {
   "cell_type": "code",
   "execution_count": 6,
   "id": "b1921e13-e097-4535-b978-c2864724a8c7",
   "metadata": {},
   "outputs": [],
   "source": [
    "indices_1 = list(range(0,num_atomos_cadena_1)) # Indices of molecule 1\n",
    "indices_2 = list(range(num_atomos_cadena_1,num_total_atomos)) # Indices of molecule 2\n"
   ]
  },
  {
   "cell_type": "code",
   "execution_count": 7,
   "id": "5912157a-5bf7-4693-81bc-b1cfc61c5143",
   "metadata": {},
   "outputs": [],
   "source": [
    "original_positions_1=original_positions[indices_1]\n",
    "original_positions_2=original_positions[indices_2]"
   ]
  },
  {
   "cell_type": "code",
   "execution_count": 8,
   "id": "fcc39889-34ed-4e84-a0e4-3053e7f5726d",
   "metadata": {},
   "outputs": [],
   "source": [
    "centro_1 = np.mean(original_positions_1, 0)\n",
    "centro_2 = np.mean(original_positions_2, 0)"
   ]
  },
  {
   "cell_type": "code",
   "execution_count": 9,
   "id": "3f08d148-ce0e-44f3-990e-2266f9a5faa1",
   "metadata": {},
   "outputs": [],
   "source": [
    "original_positions_1=original_positions[indices_1]\n",
    "original_positions_2=original_positions[indices_2]"
   ]
  },
  {
   "cell_type": "code",
   "execution_count": 10,
   "id": "6544b3be-f79b-49b3-b1d2-08782a2e61a2",
   "metadata": {},
   "outputs": [
    {
     "data": {
      "text/plain": [
       "2.3962948699429214"
      ]
     },
     "execution_count": 10,
     "metadata": {},
     "output_type": "execute_result"
    }
   ],
   "source": [
    "r=centro_2-centro_1\n",
    "original_dist_centros = np.linalg.norm(r)\n",
    "original_dist_centros"
   ]
  },
  {
   "cell_type": "code",
   "execution_count": 11,
   "id": "2adae0f6-28dc-4fbe-a2cb-68c05eb65c29",
   "metadata": {},
   "outputs": [],
   "source": [
    "original_dist_centros = original_dist_centros * r.unit\n"
   ]
  },
  {
   "cell_type": "code",
   "execution_count": 12,
   "id": "09eb7b08-ac85-4d38-b944-b0bf40a1ef67",
   "metadata": {},
   "outputs": [
    {
     "data": {
      "text/plain": [
       "Quantity(value=2.3962948699429214, unit=nanometer)"
      ]
     },
     "execution_count": 12,
     "metadata": {},
     "output_type": "execute_result"
    }
   ],
   "source": [
    "original_dist_centros"
   ]
  },
  {
   "cell_type": "code",
   "execution_count": 13,
   "id": "5884921e-bddb-4fe7-84cc-c04bfa09045d",
   "metadata": {},
   "outputs": [],
   "source": [
    "vec_normalizado=r/original_dist_centros\n"
   ]
  },
  {
   "cell_type": "code",
   "execution_count": 14,
   "id": "b65fd6ba-e3a0-48cb-9e8d-8452d43d9f75",
   "metadata": {},
   "outputs": [
    {
     "data": {
      "text/plain": [
       "array([ 0.03898872, -0.46648492,  0.88366945])"
      ]
     },
     "execution_count": 14,
     "metadata": {},
     "output_type": "execute_result"
    }
   ],
   "source": [
    "vec_normalizado"
   ]
  },
  {
   "cell_type": "code",
   "execution_count": 15,
   "id": "2552ca87-4e9e-458c-bcf4-6bb19286e5fa",
   "metadata": {},
   "outputs": [],
   "source": [
    "forcefield = app.ForceField('amber14-all.xml')\n",
    "\n",
    "system = forcefield.createSystem(pdb.topology, nonbondedMethod=app.NoCutoff, constraints=app.HBonds)\n",
    "\n",
    "step_size   = 0.002*unit.picoseconds\n",
    "temperature = 0.0*unit.kelvin\n",
    "friction    = 0.0/unit.picosecond # Damping para la dinámica de Langevin\n",
    "\n",
    "integrator = mm.LangevinIntegrator(temperature, friction, step_size)\n",
    "\n",
    "platform_name = 'CPU'\n",
    "platform    = mm.Platform.getPlatformByName(platform_name)\n",
    "\n",
    "context = mm.Context(system, integrator, platform)"
   ]
  },
  {
   "cell_type": "code",
   "execution_count": 16,
   "id": "cce99f60-7784-4331-80a7-c03bb2374716",
   "metadata": {},
   "outputs": [
    {
     "data": {
      "text/plain": [
       "Quantity(value=15294.695710703112, unit=kilojoule/mole)"
      ]
     },
     "execution_count": 16,
     "metadata": {},
     "output_type": "execute_result"
    }
   ],
   "source": [
    "\n",
    "context.setPositions(original_positions)\n",
    "state = context.getState(getEnergy=True)\n",
    "state.getPotentialEnergy()"
   ]
  },
  {
   "cell_type": "code",
   "execution_count": 17,
   "id": "3428ffd3-19c8-4477-8c59-8c502ed43548",
   "metadata": {},
   "outputs": [],
   "source": [
    "distancias_entre_centros = []\n",
    "energias_potenciales = []"
   ]
  },
  {
   "cell_type": "code",
   "execution_count": 18,
   "id": "807f485f-47d0-4abe-80c5-f24b0e7cfc12",
   "metadata": {},
   "outputs": [],
   "source": [
    "N = 1000\n",
    "delta_x = 0.025 * unit.nanometers"
   ]
  },
  {
   "cell_type": "code",
   "execution_count": 19,
   "id": "3fcd5ee0-907d-4c3c-9247-317f4d3e5ac9",
   "metadata": {},
   "outputs": [
    {
     "name": "stderr",
     "output_type": "stream",
     "text": [
      "100%|██████████████████████████████████████████████████████████████████████████████████████████████████████████████████████████████████████████████████████████████████████████| 1000/1000 [01:08<00:00, 14.68it/s]\n"
     ]
    }
   ],
   "source": [
    "\n",
    "for ii in tqdm(range(N)):\n",
    "    temporal_position_2 = original_positions_2 + ii*delta_x*vec_normalizado\n",
    "    new_positions = original_positions\n",
    "    new_positions[indices_2,:] = temporal_position_2[:,:] # Actualizo las coordenadas de la molécula 2\n",
    "    context.setPositions(new_positions)\n",
    "    state = context.getState(getEnergy=True)\n",
    "    energia_potencial= state.getPotentialEnergy() # Calculo la energía potencial\n",
    "    # Guardo los valores\n",
    "    distancias_entre_centros.append(original_dist_centros+ii*delta_x)\n",
    "    energias_potenciales.append(energia_potencial)"
   ]
  },
  {
   "cell_type": "code",
   "execution_count": null,
   "id": "fd29a6b2-0d7c-491e-9831-4d0a8dc9d146",
   "metadata": {},
   "outputs": [],
   "source": []
  },
  {
   "cell_type": "code",
   "execution_count": 20,
   "id": "1783221e-bf6a-48d9-9c55-6cde24e20180",
   "metadata": {},
   "outputs": [],
   "source": [
    "energias_potenciales = puw.concatenate(energias_potenciales)\n",
    "distancias_entre_centros = puw.concatenate(distancias_entre_centros)\n"
   ]
  },
  {
   "cell_type": "code",
   "execution_count": null,
   "id": "80173ed8-e1d8-4b37-bb68-1918627a62f5",
   "metadata": {},
   "outputs": [],
   "source": []
  },
  {
   "cell_type": "code",
   "execution_count": 21,
   "id": "2350a091-f24d-47a1-b67f-85b82ed94571",
   "metadata": {},
   "outputs": [
    {
     "name": "stderr",
     "output_type": "stream",
     "text": [
      "/home/diego/Myopt/miniconda3/envs/OpenDocker-Tools@dprada_3.9/lib/python3.9/site-packages/matplotlib/cbook/__init__.py:1298: UnitStrippedWarning: The unit of the quantity is stripped when downcasting to ndarray.\n",
      "  return np.asarray(x, float)\n"
     ]
    },
    {
     "data": {
      "image/png": "[encoded data removed]",
      "text/plain": [
       "<Figure size 640x480 with 1 Axes>"
      ]
     },
     "metadata": {},
     "output_type": "display_data"
    }
   ],
   "source": [
    "plt.plot(distancias_entre_centros ,energias_potenciales)\n",
    "plt.ylim(16400,18000)\n",
    "plt.xlabel('Distancia entre centros [fm] ')\n",
    "plt.ylabel('Potencial')\n",
    "plt.title('Potencial entre las proteínas')\n",
    "plt.show()"
   ]
  },
  {
   "cell_type": "code",
   "execution_count": 29,
   "id": "2889dac1-96bb-45d1-86e8-01cce1e1c187",
   "metadata": {},
   "outputs": [],
   "source": [
    "#vamos a construir un espacio cúbico \n",
    "#este es un ejemplo para una partición del cubo que mide \n",
    "#definimos la cantidad de puntos en una dirección de la grid \n",
    "#que medirá diez nanómetros\n",
    "tam = 7\n",
    "a = np.linspace(-5,5,tam,True) \n",
    "#creamos listas vacías para llenarlas con los puntos de la grid\n",
    "i = []\n",
    "j = []\n",
    "coord = []\n",
    "#llenamos la grid con los puntos\n",
    "for n in range(tam):\n",
    "    for l in range(tam):\n",
    "        for m in range(tam):\n",
    "            coord.append([a[n],a[l],a[m]]*r.unit)"
   ]
  },
  {
   "cell_type": "code",
   "execution_count": 33,
   "id": "0ab331cf-549e-4406-aeeb-ad27ca97127e",
   "metadata": {},
   "outputs": [
    {
     "name": "stderr",
     "output_type": "stream",
     "text": [
      "100%|████████████████████████████████████████████████████████████████████████████████████████████████████████████████████████████████████████████████████████████████████████████| 343/343 [00:23<00:00, 14.35it/s]\n"
     ]
    }
   ],
   "source": [
    "#ahora metemos todo en un ciclo para calcular \n",
    "#la energía potencial en cada punto\n",
    "#creamos un vector para las coordenadas actualizadas\n",
    "coordenadas_nuevas = []\n",
    "energias_potenciales = []\n",
    "for ii in tqdm(range(len(coord))):\n",
    "    #no se necesita normalizar el vector dirección ahora sólo sumamos las coordenadas\n",
    "    #de los vectores de posición a la posición de las otras partículas\n",
    "    \n",
    "    \n",
    "    temporal_position_2 = original_positions_2 + coord[ii]\n",
    "    new_positions = original_positions\n",
    "    new_positions[indices_2,:] = temporal_position_2[:,:] # Actualizo las coordenadas de la molécula 2\n",
    "    context.setPositions(new_positions)\n",
    "    state = context.getState(getEnergy=True)\n",
    "    energia_potencial= state.getPotentialEnergy() # Calculo la energía potencial\n",
    "    # Guardo los valores\n",
    "    coordenadas_nuevas.append(original_positions + coord[ii])\n",
    "    energias_potenciales.append(energia_potencial)\n"
   ]
  },
  {
   "cell_type": "code",
   "execution_count": null,
   "id": "3d98a717-1bf9-4ff9-9e63-1bd4ae2061ea",
   "metadata": {},
   "outputs": [],
   "source": []
  }
 ],
 "metadata": {
  "kernelspec": {
   "display_name": "Python 3 (ipykernel)",
   "language": "python",
   "name": "python3"
  },
  "language_info": {
   "codemirror_mode": {
    "name": "ipython",
    "version": 3
   },
   "file_extension": ".py",
   "mimetype": "text/x-python",
   "name": "python",
   "nbconvert_exporter": "python",
   "pygments_lexer": "ipython3",
   "version": "3.9.16"
  }
 },
 "nbformat": 4,
 "nbformat_minor": 5
}
