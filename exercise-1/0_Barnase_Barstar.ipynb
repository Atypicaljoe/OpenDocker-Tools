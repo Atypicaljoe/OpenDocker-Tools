{
 "cells": [
  {
   "cell_type": "markdown",
   "id": "b3248d88-d074-4376-a35d-494d4b0349a4",
   "metadata": {},
   "source": [
    "# Barnase-Barstar preparation\n",
    "\n",
    "*Task: Prepare a pdb file with a barnase-barstar complex following the MolSysMT showcase notebook [\"Barnase-Barstar\"](https://www.uibcdf.org/MolSysMT/contents/about/showcase/Barnase_Barstar.html)*"
   ]
  },
  {
   "cell_type": "code",
   "execution_count": 1,
   "id": "77b4f25e-9568-4f2c-a66d-72e370ec34fa",
   "metadata": {},
   "outputs": [
    {
     "data": {
      "application/vnd.jupyter.widget-view+json": {
       "model_id": "d7cac93193ed48a18f3efa039c5194bf",
       "version_major": 2,
       "version_minor": 0
      },
      "text/plain": []
     },
     "metadata": {},
     "output_type": "display_data"
    }
   ],
   "source": [
    "import molsysmt as msm"
   ]
  },
  {
   "cell_type": "code",
   "execution_count": 4,
   "id": "2ba33f4b-7b3e-4d79-b707-94f59e32631d",
   "metadata": {},
   "outputs": [],
   "source": [
    "molecular = msm.convert(\"1brs\")"
   ]
  },
  {
   "cell_type": "code",
   "execution_count": 5,
   "id": "7a8fd40a-4de0-4c74-9e9d-01648ecddc7c",
   "metadata": {},
   "outputs": [
    {
     "data": {
      "text/html": [
       "<style type=\"text/css\">\n",
       "</style>\n",
       "<table id=\"T_58fba\">\n",
       "  <thead>\n",
       "    <tr>\n",
       "      <th id=\"T_58fba_level0_col0\" class=\"col_heading level0 col0\" >form</th>\n",
       "      <th id=\"T_58fba_level0_col1\" class=\"col_heading level0 col1\" >n_atoms</th>\n",
       "      <th id=\"T_58fba_level0_col2\" class=\"col_heading level0 col2\" >n_groups</th>\n",
       "      <th id=\"T_58fba_level0_col3\" class=\"col_heading level0 col3\" >n_components</th>\n",
       "      <th id=\"T_58fba_level0_col4\" class=\"col_heading level0 col4\" >n_chains</th>\n",
       "      <th id=\"T_58fba_level0_col5\" class=\"col_heading level0 col5\" >n_molecules</th>\n",
       "      <th id=\"T_58fba_level0_col6\" class=\"col_heading level0 col6\" >n_entities</th>\n",
       "      <th id=\"T_58fba_level0_col7\" class=\"col_heading level0 col7\" >n_waters</th>\n",
       "      <th id=\"T_58fba_level0_col8\" class=\"col_heading level0 col8\" >n_proteins</th>\n",
       "      <th id=\"T_58fba_level0_col9\" class=\"col_heading level0 col9\" >n_structures</th>\n",
       "    </tr>\n",
       "  </thead>\n",
       "  <tbody>\n",
       "    <tr>\n",
       "      <td id=\"T_58fba_row0_col0\" class=\"data row0 col0\" >molsysmt.MolSys</td>\n",
       "      <td id=\"T_58fba_row0_col1\" class=\"data row0 col1\" >5153</td>\n",
       "      <td id=\"T_58fba_row0_col2\" class=\"data row0 col2\" >1101</td>\n",
       "      <td id=\"T_58fba_row0_col3\" class=\"data row0 col3\" >521</td>\n",
       "      <td id=\"T_58fba_row0_col4\" class=\"data row0 col4\" >12</td>\n",
       "      <td id=\"T_58fba_row0_col5\" class=\"data row0 col5\" >519</td>\n",
       "      <td id=\"T_58fba_row0_col6\" class=\"data row0 col6\" >3</td>\n",
       "      <td id=\"T_58fba_row0_col7\" class=\"data row0 col7\" >513</td>\n",
       "      <td id=\"T_58fba_row0_col8\" class=\"data row0 col8\" >6</td>\n",
       "      <td id=\"T_58fba_row0_col9\" class=\"data row0 col9\" >1</td>\n",
       "    </tr>\n",
       "  </tbody>\n",
       "</table>\n"
      ],
      "text/plain": [
       "<pandas.io.formats.style.Styler at 0x7fea5d91bee0>"
      ]
     },
     "execution_count": 5,
     "metadata": {},
     "output_type": "execute_result"
    }
   ],
   "source": [
    "msm.info(molecular)"
   ]
  },
  {
   "cell_type": "code",
   "execution_count": 7,
   "id": "d0d7d031-d919-49c1-b824-5d7b7b2a435d",
   "metadata": {},
   "outputs": [],
   "source": [
    "molecular = msm.extract(molecular, selection='molecule_type==\"protein\"')"
   ]
  },
  {
   "cell_type": "code",
   "execution_count": 9,
   "id": "378bdbb4-4d06-4d88-88a3-50f6f953bfa7",
   "metadata": {},
   "outputs": [
    {
     "data": {
      "text/html": [
       "<style type=\"text/css\">\n",
       "</style>\n",
       "<table id=\"T_31649\">\n",
       "  <thead>\n",
       "    <tr>\n",
       "      <th id=\"T_31649_level0_col0\" class=\"col_heading level0 col0\" >form</th>\n",
       "      <th id=\"T_31649_level0_col1\" class=\"col_heading level0 col1\" >n_atoms</th>\n",
       "      <th id=\"T_31649_level0_col2\" class=\"col_heading level0 col2\" >n_groups</th>\n",
       "      <th id=\"T_31649_level0_col3\" class=\"col_heading level0 col3\" >n_components</th>\n",
       "      <th id=\"T_31649_level0_col4\" class=\"col_heading level0 col4\" >n_chains</th>\n",
       "      <th id=\"T_31649_level0_col5\" class=\"col_heading level0 col5\" >n_molecules</th>\n",
       "      <th id=\"T_31649_level0_col6\" class=\"col_heading level0 col6\" >n_entities</th>\n",
       "      <th id=\"T_31649_level0_col7\" class=\"col_heading level0 col7\" >n_proteins</th>\n",
       "      <th id=\"T_31649_level0_col8\" class=\"col_heading level0 col8\" >n_structures</th>\n",
       "    </tr>\n",
       "  </thead>\n",
       "  <tbody>\n",
       "    <tr>\n",
       "      <td id=\"T_31649_row0_col0\" class=\"data row0 col0\" >molsysmt.MolSys</td>\n",
       "      <td id=\"T_31649_row0_col1\" class=\"data row0 col1\" >4640</td>\n",
       "      <td id=\"T_31649_row0_col2\" class=\"data row0 col2\" >588</td>\n",
       "      <td id=\"T_31649_row0_col3\" class=\"data row0 col3\" >8</td>\n",
       "      <td id=\"T_31649_row0_col4\" class=\"data row0 col4\" >6</td>\n",
       "      <td id=\"T_31649_row0_col5\" class=\"data row0 col5\" >6</td>\n",
       "      <td id=\"T_31649_row0_col6\" class=\"data row0 col6\" >2</td>\n",
       "      <td id=\"T_31649_row0_col7\" class=\"data row0 col7\" >6</td>\n",
       "      <td id=\"T_31649_row0_col8\" class=\"data row0 col8\" >1</td>\n",
       "    </tr>\n",
       "  </tbody>\n",
       "</table>\n"
      ],
      "text/plain": [
       "<pandas.io.formats.style.Styler at 0x7fea682fdf40>"
      ]
     },
     "execution_count": 9,
     "metadata": {},
     "output_type": "execute_result"
    }
   ],
   "source": [
    "msm.info(molecular)"
   ]
  },
  {
   "cell_type": "code",
   "execution_count": 10,
   "id": "1b8981ad-baef-41a3-b6d2-08e3dda1a0e7",
   "metadata": {},
   "outputs": [
    {
     "data": {
      "text/html": [
       "<style type=\"text/css\">\n",
       "</style>\n",
       "<table id=\"T_bc7d7\">\n",
       "  <thead>\n",
       "    <tr>\n",
       "      <th id=\"T_bc7d7_level0_col0\" class=\"col_heading level0 col0\" >index</th>\n",
       "      <th id=\"T_bc7d7_level0_col1\" class=\"col_heading level0 col1\" >name</th>\n",
       "      <th id=\"T_bc7d7_level0_col2\" class=\"col_heading level0 col2\" >type</th>\n",
       "      <th id=\"T_bc7d7_level0_col3\" class=\"col_heading level0 col3\" >n atoms</th>\n",
       "      <th id=\"T_bc7d7_level0_col4\" class=\"col_heading level0 col4\" >n groups</th>\n",
       "      <th id=\"T_bc7d7_level0_col5\" class=\"col_heading level0 col5\" >n components</th>\n",
       "      <th id=\"T_bc7d7_level0_col6\" class=\"col_heading level0 col6\" >chain index</th>\n",
       "      <th id=\"T_bc7d7_level0_col7\" class=\"col_heading level0 col7\" >entity index</th>\n",
       "      <th id=\"T_bc7d7_level0_col8\" class=\"col_heading level0 col8\" >entity name</th>\n",
       "    </tr>\n",
       "  </thead>\n",
       "  <tbody>\n",
       "    <tr>\n",
       "      <td id=\"T_bc7d7_row0_col0\" class=\"data row0 col0\" >0</td>\n",
       "      <td id=\"T_bc7d7_row0_col1\" class=\"data row0 col1\" >Barnase</td>\n",
       "      <td id=\"T_bc7d7_row0_col2\" class=\"data row0 col2\" >protein</td>\n",
       "      <td id=\"T_bc7d7_row0_col3\" class=\"data row0 col3\" >864</td>\n",
       "      <td id=\"T_bc7d7_row0_col4\" class=\"data row0 col4\" >108</td>\n",
       "      <td id=\"T_bc7d7_row0_col5\" class=\"data row0 col5\" >1</td>\n",
       "      <td id=\"T_bc7d7_row0_col6\" class=\"data row0 col6\" >0</td>\n",
       "      <td id=\"T_bc7d7_row0_col7\" class=\"data row0 col7\" >0</td>\n",
       "      <td id=\"T_bc7d7_row0_col8\" class=\"data row0 col8\" >Barnase</td>\n",
       "    </tr>\n",
       "    <tr>\n",
       "      <td id=\"T_bc7d7_row1_col0\" class=\"data row1 col0\" >1</td>\n",
       "      <td id=\"T_bc7d7_row1_col1\" class=\"data row1 col1\" >Barnase</td>\n",
       "      <td id=\"T_bc7d7_row1_col2\" class=\"data row1 col2\" >protein</td>\n",
       "      <td id=\"T_bc7d7_row1_col3\" class=\"data row1 col3\" >878</td>\n",
       "      <td id=\"T_bc7d7_row1_col4\" class=\"data row1 col4\" >110</td>\n",
       "      <td id=\"T_bc7d7_row1_col5\" class=\"data row1 col5\" >1</td>\n",
       "      <td id=\"T_bc7d7_row1_col6\" class=\"data row1 col6\" >1</td>\n",
       "      <td id=\"T_bc7d7_row1_col7\" class=\"data row1 col7\" >0</td>\n",
       "      <td id=\"T_bc7d7_row1_col8\" class=\"data row1 col8\" >Barnase</td>\n",
       "    </tr>\n",
       "    <tr>\n",
       "      <td id=\"T_bc7d7_row2_col0\" class=\"data row2 col0\" >2</td>\n",
       "      <td id=\"T_bc7d7_row2_col1\" class=\"data row2 col1\" >Barnase</td>\n",
       "      <td id=\"T_bc7d7_row2_col2\" class=\"data row2 col2\" >protein</td>\n",
       "      <td id=\"T_bc7d7_row2_col3\" class=\"data row2 col3\" >839</td>\n",
       "      <td id=\"T_bc7d7_row2_col4\" class=\"data row2 col4\" >108</td>\n",
       "      <td id=\"T_bc7d7_row2_col5\" class=\"data row2 col5\" >1</td>\n",
       "      <td id=\"T_bc7d7_row2_col6\" class=\"data row2 col6\" >2</td>\n",
       "      <td id=\"T_bc7d7_row2_col7\" class=\"data row2 col7\" >0</td>\n",
       "      <td id=\"T_bc7d7_row2_col8\" class=\"data row2 col8\" >Barnase</td>\n",
       "    </tr>\n",
       "    <tr>\n",
       "      <td id=\"T_bc7d7_row3_col0\" class=\"data row3 col0\" >3</td>\n",
       "      <td id=\"T_bc7d7_row3_col1\" class=\"data row3 col1\" >Barstar</td>\n",
       "      <td id=\"T_bc7d7_row3_col2\" class=\"data row3 col2\" >protein</td>\n",
       "      <td id=\"T_bc7d7_row3_col3\" class=\"data row3 col3\" >695</td>\n",
       "      <td id=\"T_bc7d7_row3_col4\" class=\"data row3 col4\" >87</td>\n",
       "      <td id=\"T_bc7d7_row3_col5\" class=\"data row3 col5\" >2</td>\n",
       "      <td id=\"T_bc7d7_row3_col6\" class=\"data row3 col6\" >3</td>\n",
       "      <td id=\"T_bc7d7_row3_col7\" class=\"data row3 col7\" >1</td>\n",
       "      <td id=\"T_bc7d7_row3_col8\" class=\"data row3 col8\" >Barstar</td>\n",
       "    </tr>\n",
       "    <tr>\n",
       "      <td id=\"T_bc7d7_row4_col0\" class=\"data row4 col0\" >4</td>\n",
       "      <td id=\"T_bc7d7_row4_col1\" class=\"data row4 col1\" >Barstar</td>\n",
       "      <td id=\"T_bc7d7_row4_col2\" class=\"data row4 col2\" >protein</td>\n",
       "      <td id=\"T_bc7d7_row4_col3\" class=\"data row4 col3\" >665</td>\n",
       "      <td id=\"T_bc7d7_row4_col4\" class=\"data row4 col4\" >86</td>\n",
       "      <td id=\"T_bc7d7_row4_col5\" class=\"data row4 col5\" >2</td>\n",
       "      <td id=\"T_bc7d7_row4_col6\" class=\"data row4 col6\" >4</td>\n",
       "      <td id=\"T_bc7d7_row4_col7\" class=\"data row4 col7\" >1</td>\n",
       "      <td id=\"T_bc7d7_row4_col8\" class=\"data row4 col8\" >Barstar</td>\n",
       "    </tr>\n",
       "    <tr>\n",
       "      <td id=\"T_bc7d7_row5_col0\" class=\"data row5 col0\" >5</td>\n",
       "      <td id=\"T_bc7d7_row5_col1\" class=\"data row5 col1\" >Barstar</td>\n",
       "      <td id=\"T_bc7d7_row5_col2\" class=\"data row5 col2\" >protein</td>\n",
       "      <td id=\"T_bc7d7_row5_col3\" class=\"data row5 col3\" >699</td>\n",
       "      <td id=\"T_bc7d7_row5_col4\" class=\"data row5 col4\" >89</td>\n",
       "      <td id=\"T_bc7d7_row5_col5\" class=\"data row5 col5\" >1</td>\n",
       "      <td id=\"T_bc7d7_row5_col6\" class=\"data row5 col6\" >5</td>\n",
       "      <td id=\"T_bc7d7_row5_col7\" class=\"data row5 col7\" >1</td>\n",
       "      <td id=\"T_bc7d7_row5_col8\" class=\"data row5 col8\" >Barstar</td>\n",
       "    </tr>\n",
       "  </tbody>\n",
       "</table>\n"
      ],
      "text/plain": [
       "<pandas.io.formats.style.Styler at 0x7fea6837a700>"
      ]
     },
     "execution_count": 10,
     "metadata": {},
     "output_type": "execute_result"
    }
   ],
   "source": [
    "msm.info(molecular, element='molecule')"
   ]
  },
  {
   "cell_type": "code",
   "execution_count": 11,
   "id": "d6d04bb0-fc41-4271-90ab-98dabab4d3d5",
   "metadata": {},
   "outputs": [
    {
     "data": {
      "text/html": [
       "<style type=\"text/css\">\n",
       "</style>\n",
       "<table id=\"T_11cbd\">\n",
       "  <thead>\n",
       "    <tr>\n",
       "      <th id=\"T_11cbd_level0_col0\" class=\"col_heading level0 col0\" >index</th>\n",
       "      <th id=\"T_11cbd_level0_col1\" class=\"col_heading level0 col1\" >id</th>\n",
       "      <th id=\"T_11cbd_level0_col2\" class=\"col_heading level0 col2\" >name</th>\n",
       "      <th id=\"T_11cbd_level0_col3\" class=\"col_heading level0 col3\" >n atoms</th>\n",
       "      <th id=\"T_11cbd_level0_col4\" class=\"col_heading level0 col4\" >n groups</th>\n",
       "      <th id=\"T_11cbd_level0_col5\" class=\"col_heading level0 col5\" >n components</th>\n",
       "      <th id=\"T_11cbd_level0_col6\" class=\"col_heading level0 col6\" >molecule index</th>\n",
       "      <th id=\"T_11cbd_level0_col7\" class=\"col_heading level0 col7\" >molecule type</th>\n",
       "      <th id=\"T_11cbd_level0_col8\" class=\"col_heading level0 col8\" >entity index</th>\n",
       "      <th id=\"T_11cbd_level0_col9\" class=\"col_heading level0 col9\" >entity name</th>\n",
       "    </tr>\n",
       "  </thead>\n",
       "  <tbody>\n",
       "    <tr>\n",
       "      <td id=\"T_11cbd_row0_col0\" class=\"data row0 col0\" >0</td>\n",
       "      <td id=\"T_11cbd_row0_col1\" class=\"data row0 col1\" >A</td>\n",
       "      <td id=\"T_11cbd_row0_col2\" class=\"data row0 col2\" >A</td>\n",
       "      <td id=\"T_11cbd_row0_col3\" class=\"data row0 col3\" >864</td>\n",
       "      <td id=\"T_11cbd_row0_col4\" class=\"data row0 col4\" >108</td>\n",
       "      <td id=\"T_11cbd_row0_col5\" class=\"data row0 col5\" >1</td>\n",
       "      <td id=\"T_11cbd_row0_col6\" class=\"data row0 col6\" >0</td>\n",
       "      <td id=\"T_11cbd_row0_col7\" class=\"data row0 col7\" >protein</td>\n",
       "      <td id=\"T_11cbd_row0_col8\" class=\"data row0 col8\" >0</td>\n",
       "      <td id=\"T_11cbd_row0_col9\" class=\"data row0 col9\" >Barnase</td>\n",
       "    </tr>\n",
       "    <tr>\n",
       "      <td id=\"T_11cbd_row1_col0\" class=\"data row1 col0\" >1</td>\n",
       "      <td id=\"T_11cbd_row1_col1\" class=\"data row1 col1\" >B</td>\n",
       "      <td id=\"T_11cbd_row1_col2\" class=\"data row1 col2\" >B</td>\n",
       "      <td id=\"T_11cbd_row1_col3\" class=\"data row1 col3\" >878</td>\n",
       "      <td id=\"T_11cbd_row1_col4\" class=\"data row1 col4\" >110</td>\n",
       "      <td id=\"T_11cbd_row1_col5\" class=\"data row1 col5\" >1</td>\n",
       "      <td id=\"T_11cbd_row1_col6\" class=\"data row1 col6\" >1</td>\n",
       "      <td id=\"T_11cbd_row1_col7\" class=\"data row1 col7\" >protein</td>\n",
       "      <td id=\"T_11cbd_row1_col8\" class=\"data row1 col8\" >0</td>\n",
       "      <td id=\"T_11cbd_row1_col9\" class=\"data row1 col9\" >Barnase</td>\n",
       "    </tr>\n",
       "    <tr>\n",
       "      <td id=\"T_11cbd_row2_col0\" class=\"data row2 col0\" >2</td>\n",
       "      <td id=\"T_11cbd_row2_col1\" class=\"data row2 col1\" >C</td>\n",
       "      <td id=\"T_11cbd_row2_col2\" class=\"data row2 col2\" >C</td>\n",
       "      <td id=\"T_11cbd_row2_col3\" class=\"data row2 col3\" >839</td>\n",
       "      <td id=\"T_11cbd_row2_col4\" class=\"data row2 col4\" >108</td>\n",
       "      <td id=\"T_11cbd_row2_col5\" class=\"data row2 col5\" >1</td>\n",
       "      <td id=\"T_11cbd_row2_col6\" class=\"data row2 col6\" >2</td>\n",
       "      <td id=\"T_11cbd_row2_col7\" class=\"data row2 col7\" >protein</td>\n",
       "      <td id=\"T_11cbd_row2_col8\" class=\"data row2 col8\" >0</td>\n",
       "      <td id=\"T_11cbd_row2_col9\" class=\"data row2 col9\" >Barnase</td>\n",
       "    </tr>\n",
       "    <tr>\n",
       "      <td id=\"T_11cbd_row3_col0\" class=\"data row3 col0\" >3</td>\n",
       "      <td id=\"T_11cbd_row3_col1\" class=\"data row3 col1\" >D</td>\n",
       "      <td id=\"T_11cbd_row3_col2\" class=\"data row3 col2\" >D</td>\n",
       "      <td id=\"T_11cbd_row3_col3\" class=\"data row3 col3\" >695</td>\n",
       "      <td id=\"T_11cbd_row3_col4\" class=\"data row3 col4\" >87</td>\n",
       "      <td id=\"T_11cbd_row3_col5\" class=\"data row3 col5\" >2</td>\n",
       "      <td id=\"T_11cbd_row3_col6\" class=\"data row3 col6\" >3</td>\n",
       "      <td id=\"T_11cbd_row3_col7\" class=\"data row3 col7\" >protein</td>\n",
       "      <td id=\"T_11cbd_row3_col8\" class=\"data row3 col8\" >1</td>\n",
       "      <td id=\"T_11cbd_row3_col9\" class=\"data row3 col9\" >Barstar</td>\n",
       "    </tr>\n",
       "    <tr>\n",
       "      <td id=\"T_11cbd_row4_col0\" class=\"data row4 col0\" >4</td>\n",
       "      <td id=\"T_11cbd_row4_col1\" class=\"data row4 col1\" >E</td>\n",
       "      <td id=\"T_11cbd_row4_col2\" class=\"data row4 col2\" >E</td>\n",
       "      <td id=\"T_11cbd_row4_col3\" class=\"data row4 col3\" >665</td>\n",
       "      <td id=\"T_11cbd_row4_col4\" class=\"data row4 col4\" >86</td>\n",
       "      <td id=\"T_11cbd_row4_col5\" class=\"data row4 col5\" >2</td>\n",
       "      <td id=\"T_11cbd_row4_col6\" class=\"data row4 col6\" >4</td>\n",
       "      <td id=\"T_11cbd_row4_col7\" class=\"data row4 col7\" >protein</td>\n",
       "      <td id=\"T_11cbd_row4_col8\" class=\"data row4 col8\" >1</td>\n",
       "      <td id=\"T_11cbd_row4_col9\" class=\"data row4 col9\" >Barstar</td>\n",
       "    </tr>\n",
       "    <tr>\n",
       "      <td id=\"T_11cbd_row5_col0\" class=\"data row5 col0\" >5</td>\n",
       "      <td id=\"T_11cbd_row5_col1\" class=\"data row5 col1\" >F</td>\n",
       "      <td id=\"T_11cbd_row5_col2\" class=\"data row5 col2\" >F</td>\n",
       "      <td id=\"T_11cbd_row5_col3\" class=\"data row5 col3\" >699</td>\n",
       "      <td id=\"T_11cbd_row5_col4\" class=\"data row5 col4\" >89</td>\n",
       "      <td id=\"T_11cbd_row5_col5\" class=\"data row5 col5\" >1</td>\n",
       "      <td id=\"T_11cbd_row5_col6\" class=\"data row5 col6\" >5</td>\n",
       "      <td id=\"T_11cbd_row5_col7\" class=\"data row5 col7\" >protein</td>\n",
       "      <td id=\"T_11cbd_row5_col8\" class=\"data row5 col8\" >1</td>\n",
       "      <td id=\"T_11cbd_row5_col9\" class=\"data row5 col9\" >Barstar</td>\n",
       "    </tr>\n",
       "  </tbody>\n",
       "</table>\n"
      ],
      "text/plain": [
       "<pandas.io.formats.style.Styler at 0x7fea64a39370>"
      ]
     },
     "execution_count": 11,
     "metadata": {},
     "output_type": "execute_result"
    }
   ],
   "source": [
    "msm.info(molecular, element='chain')"
   ]
  },
  {
   "cell_type": "code",
   "execution_count": 20,
   "id": "4198564e-4fa5-4e2a-8168-0e37ca703795",
   "metadata": {},
   "outputs": [
    {
     "data": {
      "application/vnd.jupyter.widget-view+json": {
       "model_id": "6bcaeee309eb4c7eabb92ad0250cd05d",
       "version_major": 2,
       "version_minor": 0
      },
      "text/plain": [
       "NGLWidget()"
      ]
     },
     "metadata": {},
     "output_type": "display_data"
    }
   ],
   "source": [
    "msm.view(molecular, viewer='NGLView')\n",
    "\n",
    "\n",
    "barnase = msm.extract(molecular, selection=\"chain_name=='B'\")\n",
    "barstar_E = msm.extract(molecular, selection=\"chain_name=='E'\")\n",
    "barstar_F = msm.extract(molecular, selection=\"chain_name=='F'\")\n",
    "\n",
    "msm.view([barnase, barstar_E, barstar_F], viewer='NGLView')"
   ]
  },
  {
   "cell_type": "code",
   "execution_count": 18,
   "id": "2a76e5ee-fc4b-442b-b108-3960a9247b51",
   "metadata": {},
   "outputs": [
    {
     "name": "stderr",
     "output_type": "stream",
     "text": [
      "/Users/prueba/opt/anaconda3/envs/OpenDocker-Tools/lib/python3.9/site-packages/Bio/Align/__init__.py:1277: BiopythonDeprecationWarning: alignment.format has been deprecated, and we intend to remove it in a future release of Biopython. Instead of alignment.format(), please use format(alignment) or an f-string.\n",
      "  warnings.warn(\n"
     ]
    }
   ],
   "source": [
    "barstar_F_over_E = msm.structure.align(barstar_F, selection='atom_name==\"CA\"',\n",
    "                                       reference_molecular_system=barstar_E, reference_selection='atom_name==\"CA\"')"
   ]
  },
  {
   "cell_type": "code",
   "execution_count": 19,
   "id": "5c3e5e73-ee6c-4391-9372-84790e8ab5d7",
   "metadata": {},
   "outputs": [
    {
     "data": {
      "application/vnd.jupyter.widget-view+json": {
       "model_id": "01df97e79858492aa203ddb97c4c506b",
       "version_major": 2,
       "version_minor": 0
      },
      "text/plain": [
       "NGLWidget()"
      ]
     },
     "metadata": {},
     "output_type": "display_data"
    }
   ],
   "source": [
    "msm.view([barnase, barstar_E, barstar_F_over_E], viewer='NGLView')"
   ]
  },
  {
   "cell_type": "code",
   "execution_count": 22,
   "id": "f374301e-cbad-4223-ab92-9bc8a2c72ac4",
   "metadata": {},
   "outputs": [],
   "source": [
    "barnase_barstar = msm.merge([barnase, barstar_F_over_E])"
   ]
  },
  {
   "cell_type": "code",
   "execution_count": 23,
   "id": "0c155e7e-7507-4000-a9fc-91be29a6421d",
   "metadata": {},
   "outputs": [
    {
     "data": {
      "application/vnd.jupyter.widget-view+json": {
       "model_id": "26eeaeac15514c28ae0613fa64cd51a7",
       "version_major": 2,
       "version_minor": 0
      },
      "text/plain": [
       "NGLWidget()"
      ]
     },
     "metadata": {},
     "output_type": "display_data"
    }
   ],
   "source": [
    "msm.view(barnase_barstar, viewer='NGLView')"
   ]
  },
  {
   "cell_type": "code",
   "execution_count": 25,
   "id": "ff44e983-9413-4356-a179-607e16d080dc",
   "metadata": {},
   "outputs": [
    {
     "data": {
      "text/plain": [
       "[]"
      ]
     },
     "execution_count": 25,
     "metadata": {},
     "output_type": "execute_result"
    }
   ],
   "source": [
    "msm.build.get_atoms_with_alternate_locations(barnase_barstar)"
   ]
  },
  {
   "cell_type": "code",
   "execution_count": 26,
   "id": "b434997d-6cef-4d5b-86e3-a761f9fbc493",
   "metadata": {},
   "outputs": [
    {
     "data": {
      "application/vnd.jupyter.widget-view+json": {
       "model_id": "7bb7cc56d15f4a98b599fb86deae8854",
       "version_major": 2,
       "version_minor": 0
      },
      "text/plain": [
       "NGLWidget()"
      ]
     },
     "metadata": {},
     "output_type": "display_data"
    }
   ],
   "source": [
    "msm.view(barnase_barstar, viewer='NGLView')"
   ]
  },
  {
   "cell_type": "code",
   "execution_count": 27,
   "id": "673b6dc6-b37c-4835-ada4-932062a971f9",
   "metadata": {},
   "outputs": [
    {
     "data": {
      "text/plain": [
       "[]"
      ]
     },
     "execution_count": 27,
     "metadata": {},
     "output_type": "execute_result"
    }
   ],
   "source": [
    "msm.build.get_atoms_with_alternate_locations(barnase_barstar)"
   ]
  },
  {
   "cell_type": "code",
   "execution_count": 28,
   "id": "2a7da7e7-47d3-4eae-af81-44a3c4923db5",
   "metadata": {},
   "outputs": [
    {
     "data": {
      "text/plain": [
       "{131: ['CD', 'CE', 'NZ'],\n",
       " 137: ['CG', 'CD', 'OE1', 'OE2'],\n",
       " 155: ['CG', 'CD', 'OE1', 'OE2'],\n",
       " 173: ['CG', 'CD', 'OE1', 'OE2'],\n",
       " 174: ['CG', 'OD1', 'ND2'],\n",
       " 198: ['O']}"
      ]
     },
     "execution_count": 28,
     "metadata": {},
     "output_type": "execute_result"
    }
   ],
   "source": [
    "msm.build.get_missing_heavy_atoms(barnase_barstar)"
   ]
  },
  {
   "cell_type": "code",
   "execution_count": 30,
   "id": "552e01fb-c237-480a-9622-892278ab5a57",
   "metadata": {},
   "outputs": [
    {
     "data": {
      "text/plain": [
       "{}"
      ]
     },
     "execution_count": 30,
     "metadata": {},
     "output_type": "execute_result"
    }
   ],
   "source": [
    "msm.build.get_missing_residues(barnase_barstar)"
   ]
  },
  {
   "cell_type": "code",
   "execution_count": 31,
   "id": "cce3f8ab-d5d6-4cc4-8167-390c91afba3b",
   "metadata": {},
   "outputs": [
    {
     "data": {
      "text/plain": [
       "False"
      ]
     },
     "execution_count": 31,
     "metadata": {},
     "output_type": "execute_result"
    }
   ],
   "source": [
    "msm.contains(barnase_barstar, hydrogens=True)"
   ]
  },
  {
   "cell_type": "code",
   "execution_count": 32,
   "id": "88205051-352f-4627-9989-0ee4c65d2b31",
   "metadata": {},
   "outputs": [
    {
     "name": "stderr",
     "output_type": "stream",
     "text": [
      "Warning: importing 'simtk.openmm' is deprecated.  Import 'openmm' instead.\n"
     ]
    }
   ],
   "source": [
    "barnase_barstar = msm.build.add_missing_heavy_atoms(barnase_barstar)"
   ]
  },
  {
   "cell_type": "code",
   "execution_count": 33,
   "id": "87776573-4feb-484b-ad0e-33c15acd958a",
   "metadata": {},
   "outputs": [],
   "source": [
    "barnase_barstar = msm.build.add_missing_hydrogens(barnase_barstar, pH=7.4)"
   ]
  },
  {
   "cell_type": "code",
   "execution_count": 35,
   "id": "2293d446-10b6-4ab4-bc2c-84e11e2abac1",
   "metadata": {},
   "outputs": [
    {
     "data": {
      "text/plain": [
       "1563"
      ]
     },
     "execution_count": 35,
     "metadata": {},
     "output_type": "execute_result"
    }
   ],
   "source": [
    "msm.get(barnase_barstar, element='atom', selection='atom_type==\"H\"', n_atoms=True)"
   ]
  },
  {
   "cell_type": "code",
   "execution_count": 36,
   "id": "92f6c15e-669b-4476-86cd-0e08bed83e80",
   "metadata": {},
   "outputs": [
    {
     "data": {
      "text/plain": [
       "'barnase_barstar.pdb'"
      ]
     },
     "execution_count": 36,
     "metadata": {},
     "output_type": "execute_result"
    }
   ],
   "source": [
    "msm.convert(barnase_barstar, to_form='barnase_barstar.pdb')"
   ]
  }
 ],
 "metadata": {
  "kernelspec": {
   "display_name": "Python 3 (ipykernel)",
   "language": "python",
   "name": "python3"
  },
  "language_info": {
   "codemirror_mode": {
    "name": "ipython",
    "version": 3
   },
   "file_extension": ".py",
   "mimetype": "text/x-python",
   "name": "python",
   "nbconvert_exporter": "python",
   "pygments_lexer": "ipython3",
   "version": "3.9.13"
  }
 },
 "nbformat": 4,
 "nbformat_minor": 5
}
