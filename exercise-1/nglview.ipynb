{
 "cells": [
  {
   "cell_type": "code",
   "execution_count": 1,
   "id": "e4dbf269-59ed-4894-adfc-c6ece11d36ef",
   "metadata": {},
   "outputs": [
    {
     "data": {
      "application/vnd.jupyter.widget-view+json": {
       "model_id": "41db486df0a841ab892ddacd96f10a24",
       "version_major": 2,
       "version_minor": 0
      },
      "text/plain": []
     },
     "metadata": {},
     "output_type": "display_data"
    }
   ],
   "source": [
    "import nglview as nv\n",
    "import mdtraj as md"
   ]
  },
  {
   "cell_type": "code",
   "execution_count": 2,
   "id": "48c88fa7-76f7-4abc-931e-c0a23c29f4bf",
   "metadata": {},
   "outputs": [],
   "source": [
    "trajectory = md.load_pdb('https://files.rcsb.org/download/1BRS.pdb')"
   ]
  },
  {
   "cell_type": "code",
   "execution_count": 3,
   "id": "f8ad72ec-aff3-4a6f-ae4b-f0c28b24f11f",
   "metadata": {},
   "outputs": [],
   "source": [
    "view = nv.show_mdtraj(trajectory)"
   ]
  },
  {
   "cell_type": "code",
   "execution_count": 4,
   "id": "4b20fae3-fff8-4b20-be55-6b3a4e171ea3",
   "metadata": {},
   "outputs": [
    {
     "data": {
      "application/vnd.jupyter.widget-view+json": {
       "model_id": "627b941b10cb4594a79b97d6c1a64fba",
       "version_major": 2,
       "version_minor": 0
      },
      "text/plain": [
       "NGLWidget()"
      ]
     },
     "metadata": {},
     "output_type": "display_data"
    }
   ],
   "source": [
    "view"
   ]
  },
  {
   "cell_type": "code",
   "execution_count": 5,
   "id": "ad5c0a02-5da9-46b8-8797-0c77fa364401",
   "metadata": {},
   "outputs": [
    {
     "data": {
      "text/plain": [
       "<mdtraj.Trajectory with 1 frames, 5151 atoms, 1101 residues, and unitcells at 0x136ac2e80>"
      ]
     },
     "execution_count": 5,
     "metadata": {},
     "output_type": "execute_result"
    }
   ],
   "source": [
    "trajectory"
   ]
  }
 ],
 "metadata": {
  "kernelspec": {
   "display_name": "Python 3 (ipykernel)",
   "language": "python",
   "name": "python3"
  },
  "language_info": {
   "codemirror_mode": {
    "name": "ipython",
    "version": 3
   },
   "file_extension": ".py",
   "mimetype": "text/x-python",
   "name": "python",
   "nbconvert_exporter": "python",
   "pygments_lexer": "ipython3",
   "version": "3.9.13"
  }
 },
 "nbformat": 4,
 "nbformat_minor": 5
}
