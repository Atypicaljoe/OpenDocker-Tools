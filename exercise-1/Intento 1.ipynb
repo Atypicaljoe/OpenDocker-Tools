{
 "cells": [
  {
   "cell_type": "code",
   "execution_count": 5,
   "id": "aea03c80",
   "metadata": {},
   "outputs": [],
   "source": [
    "import openmm as mm\n",
    "from openmm import unit\n",
    "from openmm import app"
   ]
  },
  {
   "cell_type": "code",
   "execution_count": 6,
   "id": "186c248c",
   "metadata": {},
   "outputs": [],
   "source": [
    "pdb = app.PDBFile('barnase_barstar.pdb')"
   ]
  },
  {
   "cell_type": "code",
   "execution_count": 7,
   "id": "ce4a8d6a",
   "metadata": {},
   "outputs": [
    {
     "data": {
      "text/plain": [
       "openmm.app.pdbfile.PDBFile"
      ]
     },
     "execution_count": 7,
     "metadata": {},
     "output_type": "execute_result"
    }
   ],
   "source": [
    "type(pdb)"
   ]
  },
  {
   "cell_type": "code",
   "execution_count": 8,
   "id": "df2f1231",
   "metadata": {},
   "outputs": [
    {
     "data": {
      "text/plain": [
       "['__class__',\n",
       " '__delattr__',\n",
       " '__dict__',\n",
       " '__dir__',\n",
       " '__doc__',\n",
       " '__eq__',\n",
       " '__format__',\n",
       " '__ge__',\n",
       " '__getattribute__',\n",
       " '__gt__',\n",
       " '__hash__',\n",
       " '__init__',\n",
       " '__init_subclass__',\n",
       " '__le__',\n",
       " '__lt__',\n",
       " '__module__',\n",
       " '__ne__',\n",
       " '__new__',\n",
       " '__reduce__',\n",
       " '__reduce_ex__',\n",
       " '__repr__',\n",
       " '__setattr__',\n",
       " '__sizeof__',\n",
       " '__str__',\n",
       " '__subclasshook__',\n",
       " '__weakref__',\n",
       " '_atomNameReplacements',\n",
       " '_loadNameReplacementTables',\n",
       " '_numpyPositions',\n",
       " '_parseResidueAtoms',\n",
       " '_positions',\n",
       " '_residueNameReplacements',\n",
       " '_standardResidues',\n",
       " 'getNumFrames',\n",
       " 'getPositions',\n",
       " 'getTopology',\n",
       " 'positions',\n",
       " 'topology',\n",
       " 'writeFile',\n",
       " 'writeFooter',\n",
       " 'writeHeader',\n",
       " 'writeModel']"
      ]
     },
     "execution_count": 8,
     "metadata": {},
     "output_type": "execute_result"
    }
   ],
   "source": [
    "dir(pdb)"
   ]
  },
  {
   "cell_type": "code",
   "execution_count": 9,
   "id": "4f1a270c",
   "metadata": {},
   "outputs": [
    {
     "data": {
      "text/plain": [
       "<Topology; 2 chains, 199 residues, 3159 atoms, 3193 bonds>"
      ]
     },
     "execution_count": 9,
     "metadata": {},
     "output_type": "execute_result"
    }
   ],
   "source": [
    "pdb.topology"
   ]
  },
  {
   "cell_type": "code",
   "execution_count": 10,
   "id": "9ccbaa2d",
   "metadata": {},
   "outputs": [
    {
     "data": {
      "text/plain": [
       "openmm.app.topology.Topology"
      ]
     },
     "execution_count": 10,
     "metadata": {},
     "output_type": "execute_result"
    }
   ],
   "source": [
    "type(pdb.topology)"
   ]
  },
  {
   "cell_type": "code",
   "execution_count": 11,
   "id": "9e0fd591",
   "metadata": {},
   "outputs": [
    {
     "data": {
      "text/plain": [
       "['__class__',\n",
       " '__delattr__',\n",
       " '__dict__',\n",
       " '__dir__',\n",
       " '__doc__',\n",
       " '__eq__',\n",
       " '__format__',\n",
       " '__ge__',\n",
       " '__getattribute__',\n",
       " '__gt__',\n",
       " '__hash__',\n",
       " '__init__',\n",
       " '__init_subclass__',\n",
       " '__le__',\n",
       " '__lt__',\n",
       " '__module__',\n",
       " '__ne__',\n",
       " '__new__',\n",
       " '__reduce__',\n",
       " '__reduce_ex__',\n",
       " '__repr__',\n",
       " '__setattr__',\n",
       " '__sizeof__',\n",
       " '__str__',\n",
       " '__subclasshook__',\n",
       " '__weakref__',\n",
       " '_bonds',\n",
       " '_chains',\n",
       " '_hasLoadedStandardBonds',\n",
       " '_numAtoms',\n",
       " '_numResidues',\n",
       " '_periodicBoxVectors',\n",
       " '_standardBonds',\n",
       " 'addAtom',\n",
       " 'addBond',\n",
       " 'addChain',\n",
       " 'addResidue',\n",
       " 'atoms',\n",
       " 'bonds',\n",
       " 'chains',\n",
       " 'createDisulfideBonds',\n",
       " 'createStandardBonds',\n",
       " 'getNumAtoms',\n",
       " 'getNumBonds',\n",
       " 'getNumChains',\n",
       " 'getNumResidues',\n",
       " 'getPeriodicBoxVectors',\n",
       " 'getUnitCellDimensions',\n",
       " 'loadBondDefinitions',\n",
       " 'residues',\n",
       " 'setPeriodicBoxVectors',\n",
       " 'setUnitCellDimensions']"
      ]
     },
     "execution_count": 11,
     "metadata": {},
     "output_type": "execute_result"
    }
   ],
   "source": [
    "dir(pdb.topology)"
   ]
  },
  {
   "cell_type": "code",
   "execution_count": 11,
   "id": "7fd9d9f9",
   "metadata": {},
   "outputs": [],
   "source": [
    "posiciones=(pdb.positions)"
   ]
  },
  {
   "cell_type": "code",
   "execution_count": 22,
   "id": "55b65f76-46b7-486d-b939-d4628e23d796",
   "metadata": {},
   "outputs": [
    {
     "data": {
      "text/plain": [
       "<function PDBFile.__format__(format_spec, /)>"
      ]
     },
     "execution_count": 22,
     "metadata": {},
     "output_type": "execute_result"
    }
   ],
   "source": [
    "pdb.__format__"
   ]
  }
 ],
 "metadata": {
  "kernelspec": {
   "display_name": "Python 3 (ipykernel)",
   "language": "python",
   "name": "python3"
  },
  "language_info": {
   "codemirror_mode": {
    "name": "ipython",
    "version": 3
   },
   "file_extension": ".py",
   "mimetype": "text/x-python",
   "name": "python",
   "nbconvert_exporter": "python",
   "pygments_lexer": "ipython3",
   "version": "3.9.13"
  }
 },
 "nbformat": 4,
 "nbformat_minor": 5
}
