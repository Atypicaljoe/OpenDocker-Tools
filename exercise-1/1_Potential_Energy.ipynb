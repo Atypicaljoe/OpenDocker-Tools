{
 "cells": [
  {
   "cell_type": "markdown",
   "id": "b3248d88-d074-4376-a35d-494d4b0349a4",
   "metadata": {},
   "source": [
    "# Potential energy calculation\n",
    "\n",
    "*Task: Once you have a barnase-barstar complex in a pdb file, use OpenMM to compute the potential energy of the system in vacuum given by the forcefield of your preference*"
   ]
  },
  {
   "cell_type": "code",
   "execution_count": null,
   "id": "9e8f0ad2-4ede-44d0-a97e-25a32a694934",
   "metadata": {},
   "outputs": [],
   "source": [
    "from openmm.app import *\n",
    "from openmm import *\n",
    "from openmm.unit import *\n",
    "from sys import stdout\n",
    "\n",
    "pdb = PDBFile('barnase_barstar.pdb')\n",
    "forcefield = ForceField('amber14-all.xml', 'amber14/tip3pfb.xml')\n",
    "system = forcefield.createSystem(pdb.topology, nonbondedMethod=PME,\n",
    "        nonbondedCutoff=1*nanometer, constraints=HBonds)\n",
    "integrator = LangevinMiddleIntegrator(300*kelvin, 1/picosecond, 0.004*picoseconds)\n",
    "simulation = Simulation(pdb.topology, system, integrator)\n",
    "simulation.context.setPositions(pdb.positions)\n",
    "simulation.minimizeEnergy()\n",
    "simulation.reporters.append(StateDataReporter('data.csv', 1000, time=True,\n",
    "        kineticEnergy=True, potentialEnergy=True))\n"
   ]
  },
  {
   "cell_type": "code",
   "execution_count": 10,
   "id": "b9acc888-6f28-4dea-8002-dc537f787a3a",
   "metadata": {},
   "outputs": [],
   "source": []
  }
 ],
 "metadata": {
  "kernelspec": {
   "display_name": "Python 3 (ipykernel)",
   "language": "python",
   "name": "python3"
  },
  "language_info": {
   "codemirror_mode": {
    "name": "ipython",
    "version": 3
   },
   "file_extension": ".py",
   "mimetype": "text/x-python",
   "name": "python",
   "nbconvert_exporter": "python",
   "pygments_lexer": "ipython3",
   "version": "3.9.13"
  }
 },
 "nbformat": 4,
 "nbformat_minor": 5
}
