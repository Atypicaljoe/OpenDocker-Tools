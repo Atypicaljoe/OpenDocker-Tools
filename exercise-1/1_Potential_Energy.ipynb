{
 "cells": [
  {
   "cell_type": "markdown",
   "id": "b3248d88-d074-4376-a35d-494d4b0349a4",
   "metadata": {},
   "source": [
    "# Potential energy calculation\n",
    "\n",
    "*Task: Once you have a barnase-barstar complex in a pdb file, use OpenMM to compute the potential energy of the system in vacuum given by the forcefield of your preference*"
   ]
  },
  {
   "cell_type": "code",
   "execution_count": null,
   "id": "77b4f25e-9568-4f2c-a66d-72e370ec34fa",
   "metadata": {},
   "outputs": [],
   "source": []
  }
 ],
 "metadata": {
  "kernelspec": {
   "display_name": "Python 3 (ipykernel)",
   "language": "python",
   "name": "python3"
  },
  "language_info": {
   "codemirror_mode": {
    "name": "ipython",
    "version": 3
   },
   "file_extension": ".py",
   "mimetype": "text/x-python",
   "name": "python",
   "nbconvert_exporter": "python",
   "pygments_lexer": "ipython3",
   "version": "3.9.13"
  }
 },
 "nbformat": 4,
 "nbformat_minor": 5
}
